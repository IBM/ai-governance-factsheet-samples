{
 "cells": [
  {
   "cell_type": "markdown",
   "metadata": {},
   "source": [
    "# Introduction <a name=\"introduction\"></a>\n",
    "\n",
    "This notebook provides a comprehensive guide on utilizing the `watsonx.governance` Factsheets Python client to **create and manage models** and **AI use cases**. It illustrates the application of various **approaches** and **versioning** (Major, Minor, Patch) for effectively tracking models within an AI use case.\n",
    "\n",
    "For detailed documentation on the `watsonx.governance` Factsheets Python client, please visit the [official documentation](https://s3.us.cloud-object-storage.appdomain.cloud/aifactsheets-client/index.html).\n",
    "\n",
    "**Required Services:**\n",
    "- `watsonx.governance`\n",
    "- `watsonx.ai`\n",
    "\n",
    "**Required Packages:**\n",
    "- **IBM Facts Client Python SDK (>=1.0.47)**\n",
    "- **IBM-watsonx-ai Python SDK**\n",
    "\n",
    "\n",
    "  \n",
    "\n"
   ]
  },
  {
   "cell_type": "code",
   "execution_count": 1,
   "metadata": {},
   "outputs": [
    {
     "name": "stdout",
     "output_type": "stream",
     "text": [
      "Requirement already satisfied: matplotlib in /Users/joeleapen/.pyenv/versions/3.10.0/envs/TESTNB/lib/python3.10/site-packages (3.9.1)\n",
      "Collecting matplotlib\n",
      "  Downloading matplotlib-3.9.1.post1-cp310-cp310-macosx_11_0_arm64.whl.metadata (11 kB)\n",
      "Requirement already satisfied: contourpy>=1.0.1 in /Users/joeleapen/.pyenv/versions/3.10.0/envs/TESTNB/lib/python3.10/site-packages (from matplotlib) (1.2.0)\n",
      "Requirement already satisfied: cycler>=0.10 in /Users/joeleapen/.pyenv/versions/3.10.0/envs/TESTNB/lib/python3.10/site-packages (from matplotlib) (0.12.1)\n",
      "Requirement already satisfied: fonttools>=4.22.0 in /Users/joeleapen/.pyenv/versions/3.10.0/envs/TESTNB/lib/python3.10/site-packages (from matplotlib) (4.49.0)\n",
      "Requirement already satisfied: kiwisolver>=1.3.1 in /Users/joeleapen/.pyenv/versions/3.10.0/envs/TESTNB/lib/python3.10/site-packages (from matplotlib) (1.4.5)\n",
      "Requirement already satisfied: numpy>=1.23 in /Users/joeleapen/.pyenv/versions/3.10.0/envs/TESTNB/lib/python3.10/site-packages (from matplotlib) (1.26.4)\n",
      "Requirement already satisfied: packaging>=20.0 in /Users/joeleapen/.pyenv/versions/3.10.0/envs/TESTNB/lib/python3.10/site-packages (from matplotlib) (23.2)\n",
      "Requirement already satisfied: pillow>=8 in /Users/joeleapen/.pyenv/versions/3.10.0/envs/TESTNB/lib/python3.10/site-packages (from matplotlib) (10.2.0)\n",
      "Requirement already satisfied: pyparsing>=2.3.1 in /Users/joeleapen/.pyenv/versions/3.10.0/envs/TESTNB/lib/python3.10/site-packages (from matplotlib) (3.1.2)\n",
      "Requirement already satisfied: python-dateutil>=2.7 in /Users/joeleapen/.pyenv/versions/3.10.0/envs/TESTNB/lib/python3.10/site-packages (from matplotlib) (2.9.0.post0)\n",
      "Requirement already satisfied: six>=1.5 in /Users/joeleapen/.pyenv/versions/3.10.0/envs/TESTNB/lib/python3.10/site-packages (from python-dateutil>=2.7->matplotlib) (1.16.0)\n",
      "Downloading matplotlib-3.9.1.post1-cp310-cp310-macosx_11_0_arm64.whl (7.8 MB)\n",
      "\u001b[2K   \u001b[90m━━━━━━━━━━━━━━━━━━━━━━━━━━━━━━━━━━━━━━━━\u001b[0m \u001b[32m7.8/7.8 MB\u001b[0m \u001b[31m7.8 MB/s\u001b[0m eta \u001b[36m0:00:00\u001b[0m00:01\u001b[0m00:01\u001b[0m\n",
      "\u001b[?25hInstalling collected packages: matplotlib\n",
      "  Attempting uninstall: matplotlib\n",
      "    Found existing installation: matplotlib 3.9.1\n",
      "    Uninstalling matplotlib-3.9.1:\n",
      "      Successfully uninstalled matplotlib-3.9.1\n",
      "Successfully installed matplotlib-3.9.1.post1\n",
      "Requirement already satisfied: scikit-learn in /Users/joeleapen/.pyenv/versions/3.10.0/envs/TESTNB/lib/python3.10/site-packages (1.5.1)\n",
      "Requirement already satisfied: numpy>=1.19.5 in /Users/joeleapen/.pyenv/versions/3.10.0/envs/TESTNB/lib/python3.10/site-packages (from scikit-learn) (1.26.4)\n",
      "Requirement already satisfied: scipy>=1.6.0 in /Users/joeleapen/.pyenv/versions/3.10.0/envs/TESTNB/lib/python3.10/site-packages (from scikit-learn) (1.11.4)\n",
      "Requirement already satisfied: joblib>=1.2.0 in /Users/joeleapen/.pyenv/versions/3.10.0/envs/TESTNB/lib/python3.10/site-packages (from scikit-learn) (1.3.2)\n",
      "Requirement already satisfied: threadpoolctl>=3.1.0 in /Users/joeleapen/.pyenv/versions/3.10.0/envs/TESTNB/lib/python3.10/site-packages (from scikit-learn) (3.3.0)\n"
     ]
    }
   ],
   "source": [
    "!pip install -U ibm-aigov-facts-client --quiet\n",
    "!pip install -U ibm-watsonx-ai --quiet\n",
    "!pip install -U python-dotenv --quiet\n",
    "!pip install -U scikit-learn"
   ]
  },
  {
   "cell_type": "code",
   "execution_count": 1,
   "metadata": {},
   "outputs": [
    {
     "name": "stderr",
     "output_type": "stream",
     "text": [
      "/Users/joeleapen/.pyenv/versions/3.10.0/envs/TESTNB/lib/python3.10/site-packages/pydantic/_internal/_fields.py:160: UserWarning: Field \"model_server_url\" has conflict with protected namespace \"model_\".\n",
      "\n",
      "You may be able to resolve this warning by setting `model_config['protected_namespaces'] = ()`.\n",
      "  warnings.warn(\n",
      "/Users/joeleapen/.pyenv/versions/3.10.0/envs/TESTNB/lib/python3.10/site-packages/pydantic/_internal/_config.py:334: UserWarning: Valid config keys have changed in V2:\n",
      "* 'schema_extra' has been renamed to 'json_schema_extra'\n",
      "  warnings.warn(message, UserWarning)\n"
     ]
    },
    {
     "data": {
      "text/plain": [
       "True"
      ]
     },
     "execution_count": 1,
     "metadata": {},
     "output_type": "execute_result"
    }
   ],
   "source": [
    "import warnings\n",
    "import shutil\n",
    "import time\n",
    "import os\n",
    "import matplotlib.pyplot as plt\n",
    "from dotenv import load_dotenv\n",
    "import os\n",
    "from ibm_watsonx_ai import APIClient\n",
    "from ibm_aigov_facts_client import AIGovFactsClient,CloudPakforDataConfig\n",
    "from IPython.display import display, Markdown\n",
    "\n",
    "\n",
    "shutil.rmtree('./mlruns', ignore_errors=True)\n",
    "load_dotenv()"
   ]
  },
  {
   "cell_type": "markdown",
   "metadata": {},
   "source": [
    "- This sample will use IBM Cloud by default. If you prefer to use Cloud pak for data, set `use_cp4d=True`\n",
    "- Flag `run_cleanup_at_end` offers option to delete created assets at the end of the notebook.The notebook will show URL to UI for model and model use case at certain cells. By dafault we set it to `run_cleanup_at_end=False` so you can access UI and see the changes. If you decide to cleanup assets at the end, set `run_cleanup_at_end=True` and remember cells showing links to UI will `NOT` work in that case."
   ]
  },
  {
   "cell_type": "code",
   "execution_count": 2,
   "metadata": {},
   "outputs": [],
   "source": [
    "use_software=True\n",
    "run_cleanup_at_end=True"
   ]
  },
  {
   "cell_type": "markdown",
   "metadata": {},
   "source": [
    "- `Experiment` and `model names` are just for illustration purposes - they can be customized.\n",
    "- Model container type can be `space` or `project`"
   ]
  },
  {
   "cell_type": "code",
   "execution_count": 3,
   "metadata": {},
   "outputs": [],
   "source": [
    "experiment_name=\"IrisClassification\"\n",
    "MODEL_NAME=\"IrisScikitModel\"\n",
    "container_type=\"project\"\n",
    "container_id=os.getenv(\"CONTAINER_ID\", \"<if you can't use .env you can provide your value here>\") # Project_id where the model will be stored"
   ]
  },
  {
   "cell_type": "markdown",
   "metadata": {},
   "source": [
    "---\n",
    "## Authentication Setup<a name=\"setup\"></a>"
   ]
  },
  {
   "cell_type": "markdown",
   "metadata": {},
   "source": [
    "### IBM Cloud  <a name=\"IBM-Cloud\"></a>\n",
    "\n",
    "Your Cloud API key can be generated by going to the Users section of the Cloud console. From that page, go to **Manage->Access(IAM)->API keys-> Create**. Give your key a name and click Create, then copy the created key and use as API_KEY.\n",
    "\n",
    "NOTE: You can also get OpenScale API_KEY using IBM CLOUD CLI.\n",
    "\n",
    "How to install IBM Cloud (bluemix) console: instruction\n",
    "\n",
    "How to get api key using console:\n",
    "\n",
    "```\n",
    "bx login --sso\n",
    "bx iam api-key-create 'my_key'\n",
    "```\n",
    "- Get relevant space id from UI `(Deployments -> Spaces-> open space -> Manage -Space GUID)`"
   ]
  },
  {
   "cell_type": "code",
   "execution_count": 4,
   "metadata": {},
   "outputs": [],
   "source": [
    "if not use_software:\n",
    "    API_KEY=os.getenv(\"CLOUD_API_KEY\", \"<if you can't use .env you can provide your value here>\")"
   ]
  },
  {
   "cell_type": "markdown",
   "metadata": {},
   "source": [
    "[back to top](#introduction)\n",
    "### Watsonx.Gov Platform <a name=\"Watsonx.Gov-Platform\"></a>\n",
    "- Service url is the Cloud pak for data platform host URL. For skytap environment, it would be the internal nginx URL.\n",
    "- You can either use user `password` or platform `apikey` to authenticate"
   ]
  },
  {
   "cell_type": "code",
   "execution_count": 5,
   "metadata": {},
   "outputs": [],
   "source": [
    "if use_software:\n",
    "    \n",
    "    creds=CloudPakforDataConfig(service_url=os.getenv(\"CPD_SERVICE_URL\", \"<if you can't use .env you can provide your value here>\"),\n",
    "        username=os.getenv(\"CPD_USERNAME\", \"<if you can't use .env you can provide your value here>\"),\n",
    "        password=os.getenv(\"CPD_PASSWORD\", \"<if you can't use .env you can provide your value here>\"))\n"
   ]
  },
  {
   "cell_type": "markdown",
   "metadata": {},
   "source": [
    "[back to top](#introduction)\n",
    "## Client Initialization\n",
    "- Container type would be either `space` or `project`. To use get/set environment utilities, model asset should be stored in Space.\n",
    "- If running this notebook multiple times with same experiment name or anytime face error saying `Experiment with same name already exists`, use `set_as_current_experiment=True` when initiating client\n",
    "\n",
    "[back to top](#introduction)\n",
    "\n"
   ]
  },
  {
   "cell_type": "code",
   "execution_count": 6,
   "metadata": {},
   "outputs": [
    {
     "name": "stdout",
     "output_type": "stream",
     "text": [
      "2024/08/12 14:37:42 INFO : Experiment IrisClassification does not exist, creating new experiment\n",
      "2024/08/12 14:37:42 INFO : Experiment successfully created with ID 102829089652578454 and name IrisClassification\n",
      "2024/08/12 14:37:42 INFO : Autolog enabled Successfully\n"
     ]
    }
   ],
   "source": [
    "if use_software:\n",
    "   facts_client = AIGovFactsClient(cloud_pak_for_data_configs=creds,experiment_name= experiment_name, container_type=container_type,container_id=container_id, set_as_current_experiment=True)\n",
    "else: \n",
    "   facts_client = AIGovFactsClient(api_key=API_KEY, experiment_name= experiment_name, container_type=container_type,container_id=container_id, set_as_current_experiment=True)"
   ]
  },
  {
   "cell_type": "markdown",
   "metadata": {},
   "source": [
    "---\n",
    "\n",
    "## Create and Train Model <a name=\"#createmodel\"></a>\n",
    "\n",
    "- This sample code demonstrates creating and training a model, specifically a classifier.\n",
    "- Model development is achieved without writing any IBM or watsonx.governance-specific code.\n",
    "- Key training facts are automatically captured in the background and can be saved to a factsheet later.\n"
   ]
  },
  {
   "cell_type": "code",
   "execution_count": 7,
   "metadata": {},
   "outputs": [],
   "source": [
    "import pandas as pd\n",
    "from sklearn import svm, datasets\n",
    "from sklearn.model_selection import train_test_split\n",
    "from sklearn import tree\n",
    "from sklearn.metrics import accuracy_score\n",
    "import numpy as np\n",
    "\n",
    "# Get testdata for iris.\n",
    "iris=datasets.load_iris()\n",
    "\n",
    "x=iris.data\n",
    "y=iris.target\n",
    "\n",
    "# Split training and test data\n",
    "x_train,x_test,y_train,y_test=train_test_split(x,y,test_size=.5)"
   ]
  },
  {
   "cell_type": "markdown",
   "metadata": {},
   "source": [
    "## Model Training\n",
    "\n",
    "The following code will be used to train the model. During the training process, key facts and metrics will be automatically captured in the background by the `IBM watsonx.governance` factsheets client. These facts can later be saved and reviewed in a factsheet.\n",
    "\n",
    "**Note:** Although there is no need to include any specific `IBM watsonx.governance` code for this process, you will still observe output\n"
   ]
  },
  {
   "cell_type": "code",
   "execution_count": 8,
   "metadata": {},
   "outputs": [
    {
     "name": "stdout",
     "output_type": "stream",
     "text": [
      "2024/08/12 14:37:51 INFO : logging results to factsheet for run_id d3540e8dd1764c7fb34a95b42c8512d8\n",
      "2024/08/12 14:37:54 INFO : Successfully logged results to Factsheet service for run_id d3540e8dd1764c7fb34a95b42c8512d8 under asset_id: e4b88953-1b43-4519-9c6b-a79da3918134 and project_id : a50ca438-c31f-42e4-b72c-04bde15410f4\n",
      "0.9333333333333333\n"
     ]
    }
   ],
   "source": [
    "# Train model\n",
    "classifier=tree.DecisionTreeClassifier()\n",
    "\n",
    "#This is the main training method. No watxonx.governance code is directly needed but as you can see from the output the training details are logged\n",
    "classifier.fit(x_train,y_train) \n",
    "\n",
    "# Predict model\n",
    "predictions=classifier.predict(x_test)\n",
    "\n",
    "# Check accuracy for the model\n",
    "print(accuracy_score(y_test,predictions))"
   ]
  },
  {
   "cell_type": "markdown",
   "metadata": {},
   "source": [
    "---\n",
    "## Store Model as a watsonx.ai / WML Asset in Project <a name=\"#savemodel\"></a>\n",
    "\n",
    "At present, the model exists solely as a Scikit-Learn object in memory. The subsequent step is to register it as a watsonx.ai / WML asset.\n",
    "\n",
    "In a **Cloud environment**, please use the watsonx.ai / WML URL specific to your region:\n",
    "\n",
    "- Dallas (US-South): `https://us-south.ml.cloud.ibm.com`\n",
    "\n",
    "For IBM internal environments, the following watsonx.ai / WML URLs are applicable:\n",
    "\n",
    "- ypqa: `https://us-south.ml.test.cloud.ibm.com`\n",
    "- dev: `https://wml-fvt.ml.test.cloud.ibm.com`\n"
   ]
  },
  {
   "cell_type": "code",
   "execution_count": 11,
   "metadata": {},
   "outputs": [],
   "source": [
    "from ibm_watsonx_ai import APIClient\n",
    "from ibm_watsonx_ai import Credentials\n",
    "\n",
    "\n",
    "if use_software:\n",
    "       Credentials = {\n",
    "                   \"url\": creds.url,\n",
    "                   \"username\": creds.username,\n",
    "                   \"password\" : creds.password,\n",
    "                   \"instance_id\": \"openshift\",\n",
    "                   \"version\" : \"4.8\"\n",
    "                  }\n",
    "else:\n",
    "       Credentials = {\n",
    "                     \"url\": \"https://us-south.ml.cloud.ibm.com\",\n",
    "                     \"apikey\": API_KEY\n",
    "              }"
   ]
  },
  {
   "cell_type": "code",
   "execution_count": 12,
   "metadata": {},
   "outputs": [
    {
     "data": {
      "text/plain": [
       "'SUCCESS'"
      ]
     },
     "execution_count": 12,
     "metadata": {},
     "output_type": "execute_result"
    }
   ],
   "source": [
    "watsonx_ai_client = APIClient(Credentials)\n",
    "watsonx_ai_client.version\n",
    "watsonx_ai_client.set.default_project(container_id)"
   ]
  },
  {
   "cell_type": "markdown",
   "metadata": {},
   "source": [
    "### Define and Prepare Model Metadata for watsonx.ai / WML\n",
    "\n",
    "The following code defines the software specification and model properties, and prepares the model metadata for registration with watsonx.ai / WML.\n"
   ]
  },
  {
   "cell_type": "code",
   "execution_count": 13,
   "metadata": {},
   "outputs": [
    {
     "name": "stdout",
     "output_type": "stream",
     "text": [
      "Software Specification ID: 336b29df-e0e1-5e7d-b6a5-f6ab722625b2\n"
     ]
    },
    {
     "data": {
      "text/plain": [
       "{'name': 'IrisScikitModel',\n",
       " 'type': 'scikit-learn_1.1',\n",
       " 'software_spec': '336b29df-e0e1-5e7d-b6a5-f6ab722625b2',\n",
       " 'label_column': 'target',\n",
       " 'custom': {'experiment_id': '1e4f91d953054b278360f4f946c27566',\n",
       "  'experiment_name': 'IrisClassification'}}"
      ]
     },
     "execution_count": 13,
     "metadata": {},
     "output_type": "execute_result"
    }
   ],
   "source": [
    "software_spec_uid = watsonx_ai_client.software_specifications.get_id_by_name(\"runtime-23.1-py3.10\")\n",
    "print(\"Software Specification ID: {}\".format(software_spec_uid))\n",
    "\n",
    "model_props = {\n",
    "    watsonx_ai_client._models.ConfigurationMetaNames.NAME:\"{}\".format(MODEL_NAME),\n",
    "    watsonx_ai_client._models.ConfigurationMetaNames.TYPE: \"scikit-learn_1.1\",\n",
    "    watsonx_ai_client._models.ConfigurationMetaNames.SOFTWARE_SPEC_UID: software_spec_uid,\n",
    "    watsonx_ai_client._models.ConfigurationMetaNames.LABEL_FIELD:\"target\",\n",
    "}\n",
    "\n",
    "facts_client.export_facts.prepare_model_meta(wml_client=watsonx_ai_client,meta_props=model_props)\n",
    "\n"
   ]
  },
  {
   "cell_type": "markdown",
   "metadata": {},
   "source": [
    "\n",
    "### Storing the Model and Retrieving the Model ID\n",
    "\n",
    "The following code stores the model in Watsonx.ai / WML and retrieves its unique model asset ID.\n",
    "\n",
    "**Note:** The IDs are unique only within their respective containers.\n",
    "`"
   ]
  },
  {
   "cell_type": "code",
   "execution_count": 14,
   "metadata": {},
   "outputs": [
    {
     "name": "stdout",
     "output_type": "stream",
     "text": [
      "Storing model .....\n",
      "Done\n",
      "Model ID: c312255b-f2fb-46bb-bd15-7d13d5dabfda\n"
     ]
    }
   ],
   "source": [
    "print(\"Storing model .....\")\n",
    "\n",
    "published_model_details = watsonx_ai_client.repository.store_model(model=classifier, meta_props=model_props, training_data=x_train, training_target=y_train)\n",
    "model_id = watsonx_ai_client.repository.get_model_id(published_model_details)\n",
    "print(\"Done\")\n",
    "print(\"Model ID: {}\".format(model_id))"
   ]
  },
  {
   "cell_type": "markdown",
   "metadata": {},
   "source": [
    "---\n",
    "## Retrieve Saved Model with Factsheet Client\n",
    "\n",
    "The model, saved using watsonx.ai / WML methods, includes comprehensive training documentation in the factsheet. \n",
    "Although additional information can be manually added, such as diagrams, this is beyond the scope of this notebook.\n",
    "\n",
    "To associate the model with an AI use case, retrieve it using the `assets.get_model()` method:\n",
    "\n",
    "- Use `verbose=True` for detailed information.\n",
    "- Retrieve the model by `model_id` with:\n",
    "  - facts_client.assets.`get_model(model_id=<wml_model_id>)`\n",
    "  \n",
    "  - facts_client.assets.`get_model(model_id=<wml_model_id>, container_type=<space_or_project>, container_id=<space_or_project_id>)`\n"
   ]
  },
  {
   "cell_type": "code",
   "execution_count": 15,
   "metadata": {},
   "outputs": [
    {
     "name": "stdout",
     "output_type": "stream",
     "text": [
      "2024/08/12 14:38:57 INFO : Current model information: {'asset_id': 'c312255b-f2fb-46bb-bd15-7d13d5dabfda', 'container_type': 'project', 'container_id': 'a50ca438-c31f-42e4-b72c-04bde15410f4', 'facts_type': 'modelfacts_user'}\n"
     ]
    },
    {
     "data": {
      "text/plain": [
       "{'name': 'IrisScikitModel',\n",
       " 'asset_type': 'wml_model',\n",
       " 'url': 'https://cpd-aigov.apps.fs-hotfix-test1.cp.fyre.ibm.com/ml/models/c312255b-f2fb-46bb-bd15-7d13d5dabfda?projectid=a50ca438-c31f-42e4-b72c-04bde15410f4&context=cpdaas',\n",
       " 'asset_id': 'c312255b-f2fb-46bb-bd15-7d13d5dabfda',\n",
       " 'container_type': 'project',\n",
       " 'container_id': 'a50ca438-c31f-42e4-b72c-04bde15410f4',\n",
       " 'facts_type': 'modelfacts_user'}"
      ]
     },
     "execution_count": 15,
     "metadata": {},
     "output_type": "execute_result"
    }
   ],
   "source": [
    "watsonx_ai_model=facts_client.assets.get_model(wml_stored_model_details=published_model_details)\n",
    "watsonx_ai_model.get_info(verbose=True)"
   ]
  },
  {
   "cell_type": "code",
   "execution_count": 16,
   "metadata": {},
   "outputs": [
    {
     "data": {
      "text/markdown": [
       "[Click here to see the created model asset and it's factsheet in the UI](https://cpd-aigov.apps.fs-hotfix-test1.cp.fyre.ibm.com/ml/models/c312255b-f2fb-46bb-bd15-7d13d5dabfda?projectid=a50ca438-c31f-42e4-b72c-04bde15410f4&context=cpdaas)"
      ],
      "text/plain": [
       "<IPython.core.display.Markdown object>"
      ]
     },
     "metadata": {},
     "output_type": "display_data"
    }
   ],
   "source": [
    "model_ui_url = watsonx_ai_model.get_info(verbose=True)[\"url\"]\n",
    "display(Markdown(\"[Click here to see the created model asset and it's factsheet in the UI](\" + model_ui_url + \")\"))"
   ]
  },
  {
   "cell_type": "markdown",
   "metadata": {},
   "source": [
    "\n",
    "\n",
    "---\n",
    "## Creation of New AI Use Case <a href=\"#add_mut\"></a>\n",
    "\n",
    "An **AI Use Case** tracks model asset lifecycles across environments like development, pre-production, and production. \n",
    "\n",
    "**Note:** The term \"AI Use Case\" has replaced \"Model Use Case\" to reflect a broader range of AI assets. While some APIs may still use the old terminology, it will be phased out.\n",
    "\n",
    "- If `ai_usecase_id` is not provided, the default inventory_id is used (requires `EDITOR` access).\n",
    "\n",
    "- Retrieve the AI Use Case ID from the URL in inventory or by using `get_ai_usecase()`.\n",
    "\n",
    "- For Cloud Pak for Data, ensure OpenPages integration is disabled (create inventory permission needed).\n"
   ]
  },
  {
   "cell_type": "code",
   "execution_count": 17,
   "metadata": {},
   "outputs": [],
   "source": [
    "ai_usecase_inventory_id = os.getenv(\"INVENTORY_ID\", \"<if you can't use .env you can provide your inventory id here>\")\n",
    "ai_usecase_name=\"Automatic Iris classification - demonstration use case\" \n",
    "ai_usecase_desc=\"AI usecase for iris classification\""
   ]
  },
  {
   "cell_type": "markdown",
   "metadata": {},
   "source": [
    "##### ⚠️ Attention: Use of inventories vs. catalogs as input to the `catalog_id` parameter\n",
    "\n",
    "- The `catalog_id` parameter can specify either an inventory ID or a catalog ID. Inventories which technically are a sub-type of catalogs optimized for watsonx.governance, are recommended.\n",
    "\n",
    "\n",
    "- Catalogs are still supported but will be deprecated over time. As a best practice, use inventories for storing use cases and external models.\n"
   ]
  },
  {
   "cell_type": "code",
   "execution_count": 22,
   "metadata": {},
   "outputs": [
    {
     "name": "stdout",
     "output_type": "stream",
     "text": [
      "2024/08/12 14:41:33 INFO : AI usecase created successfully\n"
     ]
    },
    {
     "data": {
      "text/plain": [
       "{'name': 'Automatic Iris classification - demonstration use case',\n",
       " 'description': 'AI usecase for iris classification',\n",
       " 'asset_type': 'model_entry',\n",
       " 'url': 'https://cpd-aigov.apps.fs-hotfix-test1.cp.fyre.ibm.com/data/catalogs/b1e3758b-ae8e-4708-8ade-d954324e879f/asset/2554e2d2-81ac-4c53-ae7b-851b1fc651d5?context=cpdaas',\n",
       " 'model_usecase_id': '2554e2d2-81ac-4c53-ae7b-851b1fc651d5',\n",
       " 'container_type': 'catalog',\n",
       " 'catalog_id': 'b1e3758b-ae8e-4708-8ade-d954324e879f',\n",
       " 'facts_type': 'model_entry_user'}"
      ]
     },
     "execution_count": 22,
     "metadata": {},
     "output_type": "execute_result"
    }
   ],
   "source": [
    "ai_usecase = facts_client.assets.create_ai_usecase(catalog_id=\"b1e3758b-ae8e-4708-8ade-d954324e879f\",name=ai_usecase_name,description=ai_usecase_desc)\n",
    "ai_usecase.get_info(True)"
   ]
  },
  {
   "cell_type": "markdown",
   "metadata": {},
   "source": [
    "#### Methods Available for AI Use Cases\n",
    "\n",
    "Explore the following methods for managing AI Use Cases:"
   ]
  },
  {
   "cell_type": "code",
   "execution_count": 23,
   "metadata": {},
   "outputs": [
    {
     "name": "stdout",
     "output_type": "stream",
     "text": [
      "AI usecase name is : Automatic Iris classification - demonstration use case\n",
      "AI usecase ID is : 2554e2d2-81ac-4c53-ae7b-851b1fc651d5\n",
      "AI usecase catalog is : b1e3758b-ae8e-4708-8ade-d954324e879f\n",
      "AI usecase container type is : catalog\n",
      "AI usecase description is : AI usecase for iris classification\n"
     ]
    }
   ],
   "source": [
    "print(\"AI usecase name is : {}\".format(ai_usecase.get_name()))\n",
    "print(\"AI usecase ID is : {}\".format(ai_usecase.get_id()))\n",
    "print(\"AI usecase catalog is : {}\".format(ai_usecase.get_container_id()))\n",
    "print(\"AI usecase container type is : {}\".format(ai_usecase.get_container_type()))\n",
    "print(\"AI usecase description is : {}\".format(ai_usecase.get_description()))"
   ]
  },
  {
   "cell_type": "markdown",
   "metadata": {},
   "source": [
    "---\n",
    "## Create an Approach <a href=\"#createapproach\"></a>\n",
    "\n",
    "- Track multiple models and prompts under a single use case by grouping them into different approaches.\n",
    "- Create multiple approaches for various classification algorithms to facilitate comparison and integration.\n",
    "- Use approaches to manage different models that need to be combined for a specific use case.\n"
   ]
  },
  {
   "cell_type": "markdown",
   "metadata": {},
   "source": [
    "#### Create an Approach for Decision Tree classification\n",
    "- Define a new approach specifically for Decision Tree classification within the existing use case.\n",
    "- This approach will enable tracking and management of the Decision Tree model alongside other classification algorithms."
   ]
  },
  {
   "cell_type": "code",
   "execution_count": 24,
   "metadata": {},
   "outputs": [
    {
     "name": "stdout",
     "output_type": "stream",
     "text": [
      "2024/08/12 14:41:50 INFO : Approach created successfully\n"
     ]
    },
    {
     "data": {
      "text/plain": [
       "{'approach_id': '7bbd0688-55f6-4315-9123-1150b71314ce',\n",
       " 'approach_name': 'Decision Tree classification',\n",
       " 'approach_desc': 'Use a descision tree approach to classify iris data',\n",
       " 'model_asset_id': '2554e2d2-81ac-4c53-ae7b-851b1fc651d5',\n",
       " 'model_container_type': 'catalog',\n",
       " 'model_container_id': 'b1e3758b-ae8e-4708-8ade-d954324e879f'}"
      ]
     },
     "execution_count": 24,
     "metadata": {},
     "output_type": "execute_result"
    }
   ],
   "source": [
    "decisiontree_approach = ai_usecase.create_approach(name=\"Decision Tree classification\",description=\"Use a descision tree approach to classify iris data\",icon=\"Sprout\",color=\"Teal\")\n",
    "decisiontree_approach.get_info()"
   ]
  },
  {
   "cell_type": "markdown",
   "metadata": {},
   "source": [
    "#### Create an Approach for Random Forest Classification\n",
    "\n",
    "- Define a new approach specifically for Random Forest classification within the existing use case.\n",
    "- This approach will enable tracking and management of the Random Forest model alongside other classification algorithms.\n"
   ]
  },
  {
   "cell_type": "code",
   "execution_count": 25,
   "metadata": {},
   "outputs": [
    {
     "name": "stdout",
     "output_type": "stream",
     "text": [
      "2024/08/12 14:41:52 INFO : Approach created successfully\n"
     ]
    },
    {
     "data": {
      "text/plain": [
       "{'approach_id': 'bb93d13d-b450-4da6-bfd7-49a002c81b71',\n",
       " 'approach_name': 'Random Forest classification',\n",
       " 'approach_desc': 'Use a Random Forest approach to classify iris data',\n",
       " 'model_asset_id': '2554e2d2-81ac-4c53-ae7b-851b1fc651d5',\n",
       " 'model_container_type': 'catalog',\n",
       " 'model_container_id': 'b1e3758b-ae8e-4708-8ade-d954324e879f'}"
      ]
     },
     "execution_count": 25,
     "metadata": {},
     "output_type": "execute_result"
    }
   ],
   "source": [
    "randomforest_approach = ai_usecase.create_approach(name=\"Random Forest classification\",description=\"Use a Random Forest approach to classify iris data\",icon=\"Tree\",color=\"Green\")\n",
    "randomforest_approach.get_info()"
   ]
  },
  {
   "cell_type": "markdown",
   "metadata": {},
   "source": [
    "### Retrieve All Approaches\n",
    "\n",
    "- Fetch a list of all approaches associated with the current use case.\n",
    "- This allows you to review and manage the various models and methods tracked under the use case.\n",
    "#thampp: after creating two approaches in this notebook the users will have three because the default approach is still there. We should teach our users how they can get the two approaches they want (or any number). I don't think we can delete the default. So maybe we will have to change the example such that it renames the default\n"
   ]
  },
  {
   "cell_type": "code",
   "execution_count": 26,
   "metadata": {},
   "outputs": [
    {
     "name": "stdout",
     "output_type": "stream",
     "text": [
      "2024/08/12 14:41:56 INFO : Approaches retrieved successfully\n",
      "{'approach_id': 'bb93d13d-b450-4da6-bfd7-49a002c81b71', 'approach_name': 'Random Forest classification', 'approach_desc': 'Use a Random Forest approach to classify iris data', 'model_asset_id': '2554e2d2-81ac-4c53-ae7b-851b1fc651d5', 'model_container_type': 'catalog', 'model_container_id': 'b1e3758b-ae8e-4708-8ade-d954324e879f'}\n",
      "{'approach_id': '7bbd0688-55f6-4315-9123-1150b71314ce', 'approach_name': 'Decision Tree classification', 'approach_desc': 'Use a descision tree approach to classify iris data', 'model_asset_id': '2554e2d2-81ac-4c53-ae7b-851b1fc651d5', 'model_container_type': 'catalog', 'model_container_id': 'b1e3758b-ae8e-4708-8ade-d954324e879f'}\n",
      "{'approach_id': '00000000-0000-0000-0000-000000000000', 'approach_name': 'Default approach', 'approach_desc': 'A default approach for tracking your AI assets.', 'model_asset_id': '2554e2d2-81ac-4c53-ae7b-851b1fc651d5', 'model_container_type': 'catalog', 'model_container_id': 'b1e3758b-ae8e-4708-8ade-d954324e879f'}\n"
     ]
    }
   ],
   "source": [
    "approaches = ai_usecase.get_approaches()\n",
    "for approach_detail in approaches:\n",
    "    print(approach_detail.get_info())"
   ]
  },
  {
   "cell_type": "markdown",
   "metadata": {},
   "source": [
    "### Retrieve Single Approach\n",
    "\n",
    "- Retrieve details of a specific approach within the use case.\n",
    "- This allows you to access information about a particular model or method tracked under the use case.\n"
   ]
  },
  {
   "cell_type": "code",
   "execution_count": 28,
   "metadata": {},
   "outputs": [
    {
     "name": "stdout",
     "output_type": "stream",
     "text": [
      "2024/08/12 14:43:34 INFO : Approach retrieved successfully\n"
     ]
    },
    {
     "data": {
      "text/plain": [
       "{'approach_id': '00000000-0000-0000-0000-000000000000',\n",
       " 'approach_name': 'Default approach',\n",
       " 'approach_desc': 'A default approach for tracking your AI assets.',\n",
       " 'model_asset_id': '2554e2d2-81ac-4c53-ae7b-851b1fc651d5',\n",
       " 'model_container_type': 'catalog',\n",
       " 'model_container_id': 'b1e3758b-ae8e-4708-8ade-d954324e879f'}"
      ]
     },
     "execution_count": 28,
     "metadata": {},
     "output_type": "execute_result"
    }
   ],
   "source": [
    "decisiontree_approach = ai_usecase.get_approach(approach_id=approaches[1].get_id())\n",
    "decisiontree_approach.get_info()"
   ]
  },
  {
   "cell_type": "markdown",
   "metadata": {},
   "source": [
    "> Here, you can see that there are three approaches: two are user-created, and one is the default approach. The default approach cannot be deleted.\n",
    " **Note:** We can rename the default approach to **\"Custom Approach\"** as per user requirements and use it accordingly. The original default approach itself cannot be deleted.\n"
   ]
  },
  {
   "cell_type": "code",
   "execution_count": null,
   "metadata": {},
   "outputs": [],
   "source": [
    "default_approach = ai_usecase.get_approach(approach_id=approaches[2].get_id())\n",
    "default_approach.get_info()"
   ]
  },
  {
   "cell_type": "code",
   "execution_count": null,
   "metadata": {},
   "outputs": [],
   "source": [
    "default_approach.set_name(name=\"Model Regression classicifation\")\n",
    "default_approach.set_description(description=\"Use a Regression  tree approach to classify iris data\")\n",
    "\n",
    "default_approach.get_info()"
   ]
  },
  {
   "cell_type": "markdown",
   "metadata": {},
   "source": [
    "### Delete an Approach\n",
    "\n",
    "- Remove a specific approach from the use case.\n",
    "- This action deletes the associated model or method, helping to manage and streamline your tracking process.\n"
   ]
  },
  {
   "cell_type": "code",
   "execution_count": 30,
   "metadata": {},
   "outputs": [
    {
     "name": "stdout",
     "output_type": "stream",
     "text": [
      "2024/08/12 14:45:17 INFO : Can't delete default approach \n"
     ]
    }
   ],
   "source": [
    "ai_usecase.remove_approach(approach=decisiontree_approach)"
   ]
  },
  {
   "cell_type": "code",
   "execution_count": 40,
   "metadata": {},
   "outputs": [
    {
     "name": "stdout",
     "output_type": "stream",
     "text": [
      "2024/08/05 15:05:38 INFO : Approach removed successfully\n"
     ]
    }
   ],
   "source": [
    "ai_usecase.remove_approach(approach=approaches[0])"
   ]
  },
  {
   "cell_type": "markdown",
   "metadata": {},
   "source": [
    "### Other Methods available for approach\n",
    "Explore the following methods for managing approach:"
   ]
  },
  {
   "cell_type": "code",
   "execution_count": null,
   "metadata": {},
   "outputs": [],
   "source": [
    "approaches = ai_usecase.get_approaches()\n",
    "decisiontree_approach = ai_usecase.get_approach(approach_id=approaches[0].get_id())\n",
    "print(decisiontree_approach)\n",
    "\n",
    "## Update approach name and description\n",
    "decisiontree_approach.set_name(name=\"Decision Tree classification\")\n",
    "decisiontree_approach.set_description(description=\"Use a descision tree approach to classify iris data\")\n",
    "\n",
    "## Get approach versions\n",
    "decisiontree_approach.get_versions()\n",
    "\n",
    "## Get approach info\n",
    "decisiontree_approach.get_info()"
   ]
  },
  {
   "cell_type": "code",
   "execution_count": 42,
   "metadata": {},
   "outputs": [
    {
     "name": "stdout",
     "output_type": "stream",
     "text": [
      "Approach name is : Decision Tree classification\n",
      "Approach ID is : afb4cd3a-79d7-493a-b6e0-b5d79ed70763\n",
      "Approach description is : Use a descision tree approach to classify iris data\n",
      "Approach usecase is : ae383786-2bf7-408b-9115-159c557bf561\n",
      "Approach usecase container type is : catalog\n",
      "Approach usecase container ID is : 0d136f5c-3756-46a8-ab50-979fd585b26e\n"
     ]
    }
   ],
   "source": [
    "print(\"Approach name is : {}\".format(decisiontree_approach.get_name()))\n",
    "print(\"Approach ID is : {}\".format(decisiontree_approach.get_id()))\n",
    "print(\"Approach description is : {}\".format(decisiontree_approach.get_description()))\n",
    "print(\"Approach usecase is : {}\".format(decisiontree_approach.get_model_useacse_id()))\n",
    "print(\"Approach usecase container type is : {}\".format(decisiontree_approach.get_model_usecase_container_type()))\n",
    "print(\"Approach usecase container ID is : {}\".format(decisiontree_approach.get_model_usecase_container_id()))"
   ]
  },
  {
   "cell_type": "markdown",
   "metadata": {},
   "source": [
    "---\n",
    "## Track a Model Under an AI Use Case <a name=\"add_mu\"></a>\n",
    "\n",
    "- **AI Use Cases** are designed to monitor the lifecycle of model assets across various stages, including development, pre-production, and production.\n",
    "- To effectively integrate a model into an AI use case, three critical elements must be addressed: the **model**, the **AI use case**, and the **approach**.\n",
    "- Link an existing AI use case by using the following method: `model.track(usecase=<ai_usecase>, approach=<approach1>, version_number=\"<Version Number>\")`.\n",
    "\n",
    "- **Version Numbers** are categorized as follows:\n",
    "    - **Major Version:** Indicates significant changes, represented as `1.0.0`.\n",
    "    - **Minor Version:** Reflects incremental improvements, represented as `0.1.0`.\n",
    "    - **Patch Version:** Denotes minor fixes or updates, represented as `0.0.1`.\n",
    "    - **Custom Version:** Allows for tailored versioning according to specific user needs.\n",
    "\n",
    "- Ensure that the `ai_usecase`, `approach`, and `version_number` parameters are provided as mandatory.\n",
    "\n"
   ]
  },
  {
   "cell_type": "code",
   "execution_count": null,
   "metadata": {},
   "outputs": [],
   "source": [
    "watsonx_ai_model.track(usecase=ai_usecase,approach=decisiontree_approach,version_number=\"major\",version_comment=\"major update to previous version\")"
   ]
  },
  {
   "cell_type": "markdown",
   "metadata": {},
   "source": [
    "#### Retrieve Tracked Models for Use Case\n",
    "\n",
    "- Fetch all models that are currently tracked under a specified AI use case.\n",
    "- This provides an overview of all models associated with the use case, facilitating management and analysis.\n"
   ]
  },
  {
   "cell_type": "code",
   "execution_count": null,
   "metadata": {},
   "outputs": [],
   "source": [
    "ai_usecase.get_tracked_models()"
   ]
  },
  {
   "cell_type": "markdown",
   "metadata": {},
   "source": [
    "## Untrack a Model\n",
    "\n",
    "Remove a model from an AI use case when it is no longer relevant or needs to be managed separately.\n"
   ]
  },
  {
   "cell_type": "code",
   "execution_count": null,
   "metadata": {},
   "outputs": [],
   "source": [
    "watsonx_ai_model.untrack()"
   ]
  },
  {
   "cell_type": "markdown",
   "metadata": {},
   "source": [
    "---\n",
    "## Cleanup<a href=\"#clean\"></a>"
   ]
  },
  {
   "cell_type": "code",
   "execution_count": null,
   "metadata": {},
   "outputs": [],
   "source": [
    "if run_cleanup_at_end:\n",
    "    facts_client.assets.remove_asset(asset_id=ai_usecase.get_info()[\"model_usecase_id\"],container_type=ai_usecase.get_info()[\"container_type\"],container_id=ai_usecase.get_info()[\"catalog_id\"])\n",
    "    facts_client.assets.remove_asset(asset_id=watsonx_ai_model.get_info()[\"asset_id\"],container_type=watsonx_ai_model.get_info()[\"container_type\"],container_id=watsonx_ai_model.get_info()[\"container_id\"])\n",
    "else:\n",
    "    model_ui_url = watsonx_ai_model.get_info(verbose=True)[\"url\"]\n",
    "    display(Markdown(\"[Click here to see the created wml model details in the UI](\" + model_ui_url + \")\"))\n",
    "    ai_usecase_ui_url = ai_usecase.get_info(verbose=True)[\"url\"]\n",
    "    display(Markdown(\"[Click here to see the created AI use case in the UI](\" + ai_usecase_ui_url + \")\"))"
   ]
  },
  {
   "cell_type": "markdown",
   "metadata": {},
   "source": [
    "**Created by:**  \n",
    "\n",
    "\n",
    "IBM watsonx.governance - AI Factsheet Python SDK Team\n",
    "\n",
    "---\n",
    "\n",
    "**Copyright © 2020-2024 IBM**  \n",
    "Released under the MIT License.\n"
   ]
  },
  {
   "cell_type": "markdown",
   "metadata": {},
   "source": []
  }
 ],
 "metadata": {
  "interpreter": {
   "hash": "671fb7aa161d7cd648bbbcad6b003541cd9cf13e8157e186cbe0090b82566204"
  },
  "kernelspec": {
   "display_name": "Python 3 (ipykernel)",
   "language": "python",
   "name": "python3"
  },
  "language_info": {
   "codemirror_mode": {
    "name": "ipython",
    "version": 3
   },
   "file_extension": ".py",
   "mimetype": "text/x-python",
   "name": "python",
   "nbconvert_exporter": "python",
   "pygments_lexer": "ipython3",
   "version": "3.10.0"
  },
  "varInspector": {
   "cols": {
    "lenName": 16,
    "lenType": 16,
    "lenVar": 40
   },
   "kernels_config": {
    "python": {
     "delete_cmd_postfix": "",
     "delete_cmd_prefix": "del ",
     "library": "var_list.py",
     "varRefreshCmd": "print(var_dic_list())"
    },
    "r": {
     "delete_cmd_postfix": ") ",
     "delete_cmd_prefix": "rm(",
     "library": "var_list.r",
     "varRefreshCmd": "cat(var_dic_list()) "
    }
   },
   "types_to_exclude": [
    "module",
    "function",
    "builtin_function_or_method",
    "instance",
    "_Feature"
   ],
   "window_display": false
  }
 },
 "nbformat": 4,
 "nbformat_minor": 4
}
