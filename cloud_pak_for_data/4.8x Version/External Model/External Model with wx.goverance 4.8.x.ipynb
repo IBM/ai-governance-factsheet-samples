{
 "cells": [
  {
   "cell_type": "markdown",
   "metadata": {},
   "source": [
    "# Introduction <a name=\"introduction\"></a>\n",
    "\n",
    "This notebook demonstrates how to create and manage an external model. It covers the setup of the model, various deployment methods, and effective tracking throughout its lifecycle. \n",
    "\n",
    "\n",
    "\n",
    "For detailed documentation on the `watsonx.governance` Factsheets Python client, please visit the [official documentation](https://s3.us.cloud-object-storage.appdomain.cloud/aifactsheets-client/index.html).\n",
    "\n",
    "**Required Services:**\n",
    "- `watsonx.governance`\n",
    "\n",
    "**Required Packages:**\n",
    "- **IBM Facts Client Python SDK (>=1.0.47)**\n",
    "\n",
    "\n"
   ]
  },
  {
   "cell_type": "markdown",
   "metadata": {},
   "source": [
    "<a name=\"setupcloud\"></a>"
   ]
  },
  {
   "cell_type": "code",
   "execution_count": 3,
   "metadata": {},
   "outputs": [
    {
     "name": "stdout",
     "output_type": "stream",
     "text": [
      "Requirement already satisfied: ibm-aigov-facts-client in /Users/joeleapen/.pyenv/versions/3.10.0/envs/TESTNB/lib/python3.10/site-packages (1.0.79)\n",
      "Requirement already satisfied: pandas in /Users/joeleapen/.pyenv/versions/3.10.0/envs/TESTNB/lib/python3.10/site-packages (from ibm-aigov-facts-client) (1.5.3)\n",
      "Requirement already satisfied: numpy in /Users/joeleapen/.pyenv/versions/3.10.0/envs/TESTNB/lib/python3.10/site-packages (from ibm-aigov-facts-client) (1.26.4)\n",
      "Requirement already satisfied: mlflow-skinny==2.7.0 in /Users/joeleapen/.pyenv/versions/3.10.0/envs/TESTNB/lib/python3.10/site-packages (from ibm-aigov-facts-client) (2.7.0)\n",
      "Requirement already satisfied: requests<3.0,>=2.0 in /Users/joeleapen/.pyenv/versions/3.10.0/envs/TESTNB/lib/python3.10/site-packages (from ibm-aigov-facts-client) (2.31.0)\n",
      "Requirement already satisfied: ibm-cloud-sdk-core==3.16.5 in /Users/joeleapen/.pyenv/versions/3.10.0/envs/TESTNB/lib/python3.10/site-packages (from ibm-aigov-facts-client) (3.16.5)\n",
      "Requirement already satisfied: sqlparse>=0.3.1 in /Users/joeleapen/.pyenv/versions/3.10.0/envs/TESTNB/lib/python3.10/site-packages (from ibm-aigov-facts-client) (0.4.4)\n",
      "Requirement already satisfied: docutils<0.16,>=0.10 in /Users/joeleapen/.pyenv/versions/3.10.0/envs/TESTNB/lib/python3.10/site-packages (from ibm-aigov-facts-client) (0.15.2)\n",
      "Requirement already satisfied: timeout-decorator in /Users/joeleapen/.pyenv/versions/3.10.0/envs/TESTNB/lib/python3.10/site-packages (from ibm-aigov-facts-client) (0.5.0)\n",
      "Requirement already satisfied: python-magic in /Users/joeleapen/.pyenv/versions/3.10.0/envs/TESTNB/lib/python3.10/site-packages (from ibm-aigov-facts-client) (0.4.27)\n",
      "Requirement already satisfied: pillow in /Users/joeleapen/.pyenv/versions/3.10.0/envs/TESTNB/lib/python3.10/site-packages (from ibm-aigov-facts-client) (10.2.0)\n",
      "Requirement already satisfied: urllib3<2.0.0,>=1.26.0 in /Users/joeleapen/.pyenv/versions/3.10.0/envs/TESTNB/lib/python3.10/site-packages (from ibm-cloud-sdk-core==3.16.5->ibm-aigov-facts-client) (1.26.19)\n",
      "Requirement already satisfied: python-dateutil<3.0.0,>=2.5.3 in /Users/joeleapen/.pyenv/versions/3.10.0/envs/TESTNB/lib/python3.10/site-packages (from ibm-cloud-sdk-core==3.16.5->ibm-aigov-facts-client) (2.9.0.post0)\n",
      "Requirement already satisfied: PyJWT<3.0.0,>=2.4.0 in /Users/joeleapen/.pyenv/versions/3.10.0/envs/TESTNB/lib/python3.10/site-packages (from ibm-cloud-sdk-core==3.16.5->ibm-aigov-facts-client) (2.8.0)\n",
      "Requirement already satisfied: click<9,>=7.0 in /Users/joeleapen/.pyenv/versions/3.10.0/envs/TESTNB/lib/python3.10/site-packages (from mlflow-skinny==2.7.0->ibm-aigov-facts-client) (8.1.7)\n",
      "Requirement already satisfied: cloudpickle<3 in /Users/joeleapen/.pyenv/versions/3.10.0/envs/TESTNB/lib/python3.10/site-packages (from mlflow-skinny==2.7.0->ibm-aigov-facts-client) (2.2.1)\n",
      "Requirement already satisfied: databricks-cli<1,>=0.8.7 in /Users/joeleapen/.pyenv/versions/3.10.0/envs/TESTNB/lib/python3.10/site-packages (from mlflow-skinny==2.7.0->ibm-aigov-facts-client) (0.18.0)\n",
      "Requirement already satisfied: entrypoints<1 in /Users/joeleapen/.pyenv/versions/3.10.0/envs/TESTNB/lib/python3.10/site-packages (from mlflow-skinny==2.7.0->ibm-aigov-facts-client) (0.4)\n",
      "Requirement already satisfied: gitpython<4,>=2.1.0 in /Users/joeleapen/.pyenv/versions/3.10.0/envs/TESTNB/lib/python3.10/site-packages (from mlflow-skinny==2.7.0->ibm-aigov-facts-client) (3.1.42)\n",
      "Requirement already satisfied: pyyaml<7,>=5.1 in /Users/joeleapen/.pyenv/versions/3.10.0/envs/TESTNB/lib/python3.10/site-packages (from mlflow-skinny==2.7.0->ibm-aigov-facts-client) (6.0.1)\n",
      "Requirement already satisfied: protobuf<5,>=3.12.0 in /Users/joeleapen/.pyenv/versions/3.10.0/envs/TESTNB/lib/python3.10/site-packages (from mlflow-skinny==2.7.0->ibm-aigov-facts-client) (4.25.3)\n",
      "Requirement already satisfied: pytz<2024 in /Users/joeleapen/.pyenv/versions/3.10.0/envs/TESTNB/lib/python3.10/site-packages (from mlflow-skinny==2.7.0->ibm-aigov-facts-client) (2022.7.1)\n",
      "Requirement already satisfied: packaging<24 in /Users/joeleapen/.pyenv/versions/3.10.0/envs/TESTNB/lib/python3.10/site-packages (from mlflow-skinny==2.7.0->ibm-aigov-facts-client) (23.2)\n",
      "Requirement already satisfied: importlib-metadata!=4.7.0,<7,>=3.7.0 in /Users/joeleapen/.pyenv/versions/3.10.0/envs/TESTNB/lib/python3.10/site-packages (from mlflow-skinny==2.7.0->ibm-aigov-facts-client) (4.13.0)\n",
      "Requirement already satisfied: charset-normalizer<4,>=2 in /Users/joeleapen/.pyenv/versions/3.10.0/envs/TESTNB/lib/python3.10/site-packages (from requests<3.0,>=2.0->ibm-aigov-facts-client) (3.3.2)\n",
      "Requirement already satisfied: idna<4,>=2.5 in /Users/joeleapen/.pyenv/versions/3.10.0/envs/TESTNB/lib/python3.10/site-packages (from requests<3.0,>=2.0->ibm-aigov-facts-client) (3.6)\n",
      "Requirement already satisfied: certifi>=2017.4.17 in /Users/joeleapen/.pyenv/versions/3.10.0/envs/TESTNB/lib/python3.10/site-packages (from requests<3.0,>=2.0->ibm-aigov-facts-client) (2024.2.2)\n",
      "Requirement already satisfied: oauthlib>=3.1.0 in /Users/joeleapen/.pyenv/versions/3.10.0/envs/TESTNB/lib/python3.10/site-packages (from databricks-cli<1,>=0.8.7->mlflow-skinny==2.7.0->ibm-aigov-facts-client) (3.2.2)\n",
      "Requirement already satisfied: tabulate>=0.7.7 in /Users/joeleapen/.pyenv/versions/3.10.0/envs/TESTNB/lib/python3.10/site-packages (from databricks-cli<1,>=0.8.7->mlflow-skinny==2.7.0->ibm-aigov-facts-client) (0.9.0)\n",
      "Requirement already satisfied: six>=1.10.0 in /Users/joeleapen/.pyenv/versions/3.10.0/envs/TESTNB/lib/python3.10/site-packages (from databricks-cli<1,>=0.8.7->mlflow-skinny==2.7.0->ibm-aigov-facts-client) (1.16.0)\n",
      "Requirement already satisfied: gitdb<5,>=4.0.1 in /Users/joeleapen/.pyenv/versions/3.10.0/envs/TESTNB/lib/python3.10/site-packages (from gitpython<4,>=2.1.0->mlflow-skinny==2.7.0->ibm-aigov-facts-client) (4.0.11)\n",
      "Requirement already satisfied: zipp>=0.5 in /Users/joeleapen/.pyenv/versions/3.10.0/envs/TESTNB/lib/python3.10/site-packages (from importlib-metadata!=4.7.0,<7,>=3.7.0->mlflow-skinny==2.7.0->ibm-aigov-facts-client) (3.18.1)\n",
      "Requirement already satisfied: smmap<6,>=3.0.1 in /Users/joeleapen/.pyenv/versions/3.10.0/envs/TESTNB/lib/python3.10/site-packages (from gitdb<5,>=4.0.1->gitpython<4,>=2.1.0->mlflow-skinny==2.7.0->ibm-aigov-facts-client) (5.0.1)\n"
     ]
    }
   ],
   "source": [
    "!pip install ibm-aigov-facts-client\n",
    "!pip install -U python-dotenv --quiet"
   ]
  },
  {
   "cell_type": "code",
   "execution_count": 17,
   "metadata": {},
   "outputs": [
    {
     "data": {
      "text/plain": [
       "True"
      ]
     },
     "execution_count": 17,
     "metadata": {},
     "output_type": "execute_result"
    }
   ],
   "source": [
    "import os\n",
    "import warnings\n",
    "import wget\n",
    "import shutil\n",
    "import json\n",
    "from dotenv import load_dotenv\n",
    "from ibm_aigov_facts_client import AIGovFactsClient,CloudPakforDataConfig,DeploymentDetails,TrainingDataReference,ExternalModelSchemas,ModelDetails\n",
    "from IPython.display import display, Markdown\n",
    "\n",
    "\n",
    "shutil.rmtree('./mlruns', ignore_errors=True)\n",
    "load_dotenv()"
   ]
  },
  {
   "cell_type": "markdown",
   "metadata": {},
   "source": [
    "- This sample will use IBM Cloud by default. If you prefer to IBM watsonx.goverance software, set `use_software=True`\n",
    "- Flag `run_cleanup_at_end` offers option to delete created assets at the end of the notebook.The notebook will show URL to UI for model and model use case at certain cells. By dafault we set it to `run_cleanup_at_end=False` so you can access UI and see the changes. If you decide to cleanup assets at the end, set `run_cleanup_at_end=True` and remember cells showing links to UI will `NOT` work in that case."
   ]
  },
  {
   "cell_type": "code",
   "execution_count": 6,
   "metadata": {},
   "outputs": [],
   "source": [
    "use_software=True\n",
    "run_cleanup_at_end=True"
   ]
  },
  {
   "cell_type": "markdown",
   "metadata": {},
   "source": [
    "- `Experiment`  be customized.\n"
   ]
  },
  {
   "cell_type": "code",
   "execution_count": 8,
   "metadata": {},
   "outputs": [],
   "source": [
    "experiment_name=\"External Model\""
   ]
  },
  {
   "cell_type": "markdown",
   "metadata": {},
   "source": [
    "---\n",
    "## Authentication Setup<a name=\"setup\"></a>"
   ]
  },
  {
   "cell_type": "markdown",
   "metadata": {},
   "source": [
    "### IBM Cloud  <a name=\"IBM-Cloud\"></a>\n",
    "\n",
    "Your Cloud API key can be generated by going to the Users section of the Cloud console. From that page, go to **Manage->Access(IAM)->API keys-> Create**. Give your key a name and click Create, then copy the created key and use as API_KEY.\n",
    "\n",
    "NOTE: You can also get OpenScale API_KEY using IBM CLOUD CLI.\n",
    "\n",
    "How to install IBM Cloud (bluemix) console: instruction\n",
    "\n",
    "How to get api key using console:\n",
    "\n",
    "```\n",
    "bx login --sso\n",
    "bx iam api-key-create 'my_key'\n",
    "```\n",
    "- Get relevant space id from UI `(Deployments -> Spaces-> open space -> Manage -Space GUID)`"
   ]
  },
  {
   "cell_type": "code",
   "execution_count": 9,
   "metadata": {},
   "outputs": [],
   "source": [
    "if not use_software:\n",
    "    API_KEY=os.getenv(\"CLOUD_API_KEY\", \"<if you can't use .env you can provide your value here>\")"
   ]
  },
  {
   "cell_type": "markdown",
   "metadata": {},
   "source": [
    "[back to top](#introduction)\n",
    "### IBM watsonx.goverance software<a name=\"Watsonx.Gov-Platform\"></a>\n",
    "\n",
    "- Service url is the watsonx.goverance software platform host URL. For skytap environment, it would be the internal nginx URL.\n",
    "- You can either use user `password` or platform `apikey` to authenticate"
   ]
  },
  {
   "cell_type": "code",
   "execution_count": 10,
   "metadata": {},
   "outputs": [],
   "source": [
    "if use_software:\n",
    "    creds=CloudPakforDataConfig(service_url=os.getenv(\"CPD_SERVICE_URL\", \"<if you can't use .env you can provide your value here>\"),\n",
    "        username=os.getenv(\"CPD_USERNAME\", \"<if you can't use .env you can provide your value here>\"),\n",
    "        password=os.getenv(\"CPD_PASSWORD\", \"<if you can't use .env you can provide your value here>\"))\n"
   ]
  },
  {
   "cell_type": "markdown",
   "metadata": {},
   "source": [
    "[back to top](#introduction)\n",
    "## Client Initialization\n",
    "- Container type would be either `space` or `project`. To use get/set environment utilities, model asset should be stored in Space.\n",
    "- If running this notebook multiple times with same experiment name or anytime face error saying `Experiment with same name already exists`, use `set_as_current_experiment=True` when initiating client\n",
    "\n",
    "[back to top](#introduction)\n",
    "\n"
   ]
  },
  {
   "cell_type": "code",
   "execution_count": 11,
   "metadata": {},
   "outputs": [
    {
     "name": "stdout",
     "output_type": "stream",
     "text": [
      "2024/08/05 10:44:10 INFO : Experiment External Model does not exist, creating new experiment\n",
      "2024/08/05 10:44:10 INFO : Experiment successfully created with ID 142482313712788761 and name External Model\n",
      "2024/08/05 10:44:10 INFO : Autolog enabled Successfully\n"
     ]
    }
   ],
   "source": [
    "if use_software:\n",
    "   facts_client = AIGovFactsClient(cloud_pak_for_data_configs=creds,experiment_name=experiment_name,set_as_current_experiment=True,external_model=True)\n",
    "else: \n",
    "   facts_client = AIGovFactsClient(api_key=API_KEY,experiment_name=experiment_name,set_as_current_experiment=True,external_model=True)"
   ]
  },
  {
   "cell_type": "code",
   "execution_count": 12,
   "metadata": {},
   "outputs": [
    {
     "data": {
      "text/plain": [
       "'1.0.79'"
      ]
     },
     "execution_count": 12,
     "metadata": {},
     "output_type": "execute_result"
    }
   ],
   "source": [
    "facts_client.version"
   ]
  },
  {
   "cell_type": "markdown",
   "metadata": {},
   "source": [
    "---\n",
    "## Create Model Properties <a name=\"createprop\"></a>\n",
    "\n",
    "- To demonstrate custom facts, we need to create a placeholder model on which we can show the APIs.\n",
    "- The model itself does not matter for custom fact demonstration, so we will just create a sample one quickly.\n",
    "- In a real end-to-end scenario, the model would be created based on real SageMaker/Azure/Custom information and use real names and IDs from these environments.\n",
    "\n",
    "For more details, see the [documentation](https://dataplatform.cloud.ibm.com/docs/content/wsj/analyze-data/factsheet-external.html).\n"
   ]
  },
  {
   "cell_type": "markdown",
   "metadata": {},
   "source": [
    "### Essential Information Required for External Model Integration\n",
    "\n",
    "\n",
    "- Input and Output schema details\n",
    "- Training data reference information\n",
    "- Model deployment details from the platform where the model is stored\n"
   ]
  },
  {
   "cell_type": "markdown",
   "metadata": {},
   "source": [
    "### <span style=\"color: #FFD700;\">Input and Output Schema Details</span>\n"
   ]
  },
  {
   "cell_type": "code",
   "execution_count": 15,
   "metadata": {},
   "outputs": [
    {
     "name": "stdout",
     "output_type": "stream",
     "text": [
      "rm: external_model_facts_payload.json: No such file or directory\n"
     ]
    },
    {
     "data": {
      "text/plain": [
       "'external_model_facts_payload.json'"
      ]
     },
     "execution_count": 15,
     "metadata": {},
     "output_type": "execute_result"
    }
   ],
   "source": [
    "!rm external_model_facts_payload.json\n",
    "wget.download(\"https://raw.githubusercontent.com/IBM/ai-governance-factsheet-samples/main/Assets/data/external_model_facts_payload.json\")"
   ]
  },
  {
   "cell_type": "code",
   "execution_count": 18,
   "metadata": {},
   "outputs": [],
   "source": [
    "with open(\"external_model_facts_payload.json\", 'r') as f:\n",
    "    payload = json.load(f)"
   ]
  },
  {
   "cell_type": "code",
   "execution_count": 19,
   "metadata": {},
   "outputs": [],
   "source": [
    "external_schemas=ExternalModelSchemas(input=payload[\"schemas\"][\"input\"],output=payload[\"schemas\"][\"output\"])"
   ]
  },
  {
   "cell_type": "markdown",
   "metadata": {},
   "source": [
    "### <span style=\"color: #FFD700;\">Training Data Reference Details</span> <a name=\"htd\"></a>\n",
    "\n",
    "The **Training Data Reference** is crucial for specifying the details and configuration required to access and utilize training data. This includes defining parameters such as the `schema, unique identifiers, type of data, and connectivity details`. Properly configuring these aspects ensures accurate and effective integration of training data, which is essential for building and deploying external models.\n"
   ]
  },
  {
   "cell_type": "code",
   "execution_count": 20,
   "metadata": {},
   "outputs": [],
   "source": [
    "# Derive training data reference schema from model training input schema\n",
    "\n",
    "training_data_schema={}\n",
    "\n",
    "input_schema= payload[\"schemas\"][\"input\"][0]\n",
    "training_data_schema[\"schema\"]=input_schema"
   ]
  },
  {
   "cell_type": "code",
   "execution_count": 21,
   "metadata": {},
   "outputs": [],
   "source": [
    "TRAINING_DATA_ASSSET_NAME = \"german_credit_data_biased_training.csv\"\n",
    "TYPE = \"url\"\n",
    "\n",
    "External_data_url = \"https://github.com/IBM/watson-openscale-samples/blob/main/IBM%20Cloud/WML/assets/data/credit_risk/german_credit_data_biased_training.csv\""
   ]
  },
  {
   "cell_type": "markdown",
   "metadata": {},
   "source": [
    "- The **TrainingDataReference()** function is employed for creating the train_data_ref, which includes parameters like training schema, ID, type, and connectivity details.\n",
    "- This formal approach ensures the accurate configuration and connection of training data for seamless external model creation."
   ]
  },
  {
   "cell_type": "code",
   "execution_count": 22,
   "metadata": {},
   "outputs": [],
   "source": [
    "tdataref = TrainingDataReference(schema=training_data_schema, id=TRAINING_DATA_ASSSET_NAME, type=TYPE, connection={\"url\":External_data_url})"
   ]
  },
  {
   "cell_type": "markdown",
   "metadata": {},
   "source": [
    "### <span style=\"color: #FFD700;\">Model Deployment Details and Model Details</span>\n",
    "\n",
    "- **Model Deployment Details**: Includes parameters such as the identifier, name, deployment type, scoring endpoint, and description.\n",
    "\n",
    "- **Model Details**: Covers attributes like the model type, input type, algorithm, label column, label type, and prediction type.\n"
   ]
  },
  {
   "cell_type": "code",
   "execution_count": 23,
   "metadata": {},
   "outputs": [],
   "source": [
    "endpoint_name=\"sagemaker-scikit-learn-2023-08-11-09-00-35-455\"\n",
    "endpoint_url = \"https://runtime.sagemaker.us-east-2.amazonaws.com/endpoints/sagemaker-scikit-learn-2023-08-11-09-00-35-455/invocations\"\n",
    "deployment_name = \"Loan Application Model Deployment\""
   ]
  },
  {
   "cell_type": "markdown",
   "metadata": {},
   "source": [
    "#### Model Deployment Details"
   ]
  },
  {
   "cell_type": "code",
   "execution_count": 24,
   "metadata": {},
   "outputs": [],
   "source": [
    "deployment=DeploymentDetails(identifier=endpoint_name,name=deployment_name,deployment_type=\"online\",scoring_endpoint=endpoint_url,description=\"Model deployed in AWS SageMaker to predict the loan application approval\")\n",
    "\n"
   ]
  },
  {
   "cell_type": "markdown",
   "metadata": {},
   "source": [
    "#### Model Details"
   ]
  },
  {
   "cell_type": "code",
   "execution_count": 25,
   "metadata": {},
   "outputs": [],
   "source": [
    "model_details = ModelDetails(model_type=\"scikit-learn_1.1\",input_type=\"Structured\", algorithm=\"GradientBoost Algorithm\",label_column=\"Risk\", label_type=\"String\",prediction_type=\"Binary\")"
   ]
  },
  {
   "cell_type": "markdown",
   "metadata": {},
   "source": [
    "## Save External Model to Inventory <a name=\"save\"></a>\n",
    "\n",
    "- This function facilitates the storage of external models within the inventory. It requires essential parameters including `endpoint_name`, `deployment`, and `model_details`.\n",
    "\n",
    "\n",
    "- If the `Inventory_id` is not specified, the function will use the default Inventory ID from the platform's available assets. Nevertheless, all other specified parameters must be provided.\n",
    "\n",
    "##### ⚠️ Warning: Use of `catalog_id`\n",
    "\n",
    "- The `catalog_id` parameter can specify either an inventory ID or a catalog ID. Inventories, optimized for watsonx.governance, are recommended.\n",
    "- Catalogs are still supported but will be deprecated over time. As a best practice, use inventories for storing use cases and external models.\n",
    "\n",
    "For further details, please consult [the documentation](https://dataplatform.cloud.ibm.com/docs/content/wsj/analyze-data/factsheet-external.html).\n"
   ]
  },
  {
   "cell_type": "code",
   "execution_count": 26,
   "metadata": {},
   "outputs": [],
   "source": [
    "model_name = \"Loan Application Model\""
   ]
  },
  {
   "cell_type": "code",
   "execution_count": 28,
   "metadata": {},
   "outputs": [
    {
     "name": "stdout",
     "output_type": "stream",
     "text": [
      "2024/08/05 10:45:27 INFO : External model asset saved successfully under asset_id 6fabcd7b-7093-44b0-a99b-24035e360d87 and catalog d8d10c03-1ba0-49ff-ac58-f5df932ae29b\n",
      "2024/08/05 10:45:34 INFO : Current model information: {'asset_id': '6fabcd7b-7093-44b0-a99b-24035e360d87', 'container_type': 'catalog', 'container_id': 'd8d10c03-1ba0-49ff-ac58-f5df932ae29b', 'facts_type': 'modelfacts_user'}\n"
     ]
    }
   ],
   "source": [
    "external_model=facts_client.external_model_facts.save_external_model_asset(model_name,model_name,model_details=model_details,training_data_reference=tdataref,schemas=external_schemas,deployment_details=deployment,description=\"Model developed in AWS SageMaker to predict the loan application approval\")"
   ]
  },
  {
   "cell_type": "code",
   "execution_count": 29,
   "metadata": {},
   "outputs": [
    {
     "data": {
      "text/plain": [
       "{'name': 'Loan Application Model',\n",
       " 'description': 'Model developed in AWS SageMaker to predict the loan application approval',\n",
       " 'asset_type': 'model_stub',\n",
       " 'url': 'https://cpd-aigov.apps.fs-hotfix-test1.cp.fyre.ibm.com/data/catalogs/d8d10c03-1ba0-49ff-ac58-f5df932ae29b/asset/6fabcd7b-7093-44b0-a99b-24035e360d87/asset-preview?context=cpdaas',\n",
       " 'asset_id': '6fabcd7b-7093-44b0-a99b-24035e360d87',\n",
       " 'container_type': 'catalog',\n",
       " 'container_id': 'd8d10c03-1ba0-49ff-ac58-f5df932ae29b',\n",
       " 'facts_type': 'modelfacts_user'}"
      ]
     },
     "execution_count": 29,
     "metadata": {},
     "output_type": "execute_result"
    }
   ],
   "source": [
    "external_model.get_info(True)"
   ]
  },
  {
   "cell_type": "markdown",
   "metadata": {},
   "source": [
    "---\n",
    "\n",
    "## Deployment Methods\n",
    "\n",
    "These deployment methods are specifically tailored for external models. They detail the processes and strategies for effectively deploying models into environments, ensuring they meet operational requirements and integrate smoothly with existing systems.\n"
   ]
  },
  {
   "cell_type": "markdown",
   "metadata": {},
   "source": [
    "### Retrieve Deployments for External Models\n",
    "\n",
    "This function allows you to access and view all existing deployments associated with the external models. It provides detailed information on each deployment, including their status and configuration.\n"
   ]
  },
  {
   "cell_type": "code",
   "execution_count": 30,
   "metadata": {},
   "outputs": [
    {
     "name": "stdout",
     "output_type": "stream",
     "text": [
      "2024/08/05 10:45:39 INFO : Deployments retrieved successfully\n",
      "{\n",
      "  \"id\": \"99ba2b29cf98ae401fa4443fd9618fbd\",\n",
      "  \"name\": \"Loan Application Model Deployment\",\n",
      "  \"type\": \"online\",\n",
      "  \"scoring_endpoint\": \"https://runtime.sagemaker.us-east-2.amazonaws.com/endpoints/sagemaker-scikit-learn-2023-08-11-09-00-35-455/invocations\",\n",
      "  \"is_deleted\": false,\n",
      "  \"description\": \"Model deployed in AWS SageMaker to predict the loan application approval\",\n",
      "  \"model_name\": \"Loan Application Model\",\n",
      "  \"model_asset_id\": \"6fabcd7b-7093-44b0-a99b-24035e360d87\",\n",
      "  \"model_container_type\": \"catalog\",\n",
      "  \"model_container_id\": \"d8d10c03-1ba0-49ff-ac58-f5df932ae29b\"\n",
      "}\n"
     ]
    }
   ],
   "source": [
    "deployments = external_model.get_deployments()\n",
    "for deployment in deployments:\n",
    "    print(deployment)"
   ]
  },
  {
   "cell_type": "markdown",
   "metadata": {},
   "source": [
    "### Add New Deployment to External Model\n",
    "\n",
    "This function allows you to add a deployment to the external model within the system. \n",
    "\n",
    "Note that this action will not affect external providers such as AWS or Azure. You can add multiple deployments simultaneously.\n",
    "\n",
    "\n"
   ]
  },
  {
   "cell_type": "code",
   "execution_count": 31,
   "metadata": {},
   "outputs": [
    {
     "name": "stdout",
     "output_type": "stream",
     "text": [
      "2024/08/05 10:45:45 INFO : Deployment added successfully to an external model\n"
     ]
    },
    {
     "data": {
      "text/plain": [
       "{\n",
       "  \"id\": \"870f3666d8d6e8efdcede6fc53375cd3\",\n",
       "  \"name\": \"Loan Application Model Deployment with modifications\",\n",
       "  \"type\": \"online\",\n",
       "  \"scoring_endpoint\": \"https://runtime.sagemaker.us-east-2.amazonaws.com/endpoints/sagemaker-scikit-learn-2023-08-11-09-00-35-455/invocations\",\n",
       "  \"is_deleted\": \"false\",\n",
       "  \"description\": \"Model deployed in AWS SageMaker to predict the loan application approval\",\n",
       "  \"model_name\": \"Loan Application Model\",\n",
       "  \"model_asset_id\": \"6fabcd7b-7093-44b0-a99b-24035e360d87\",\n",
       "  \"model_container_type\": \"catalog\",\n",
       "  \"model_container_id\": \"d8d10c03-1ba0-49ff-ac58-f5df932ae29b\"\n",
       "}"
      ]
     },
     "execution_count": 31,
     "metadata": {},
     "output_type": "execute_result"
    }
   ],
   "source": [
    "\n",
    "deployment_new = [{\"id\":\"Loan Application Deploy\",\"name\":\"Loan Application Model Deployment with modifications\",\"type\":\"online\",\"scoring_endpoint\":endpoint_url,\"description\":\"Model deployed in AWS SageMaker to predict the loan application approval\"}]\n",
    "deployments_list = external_model.add_deployments(deployment_new)\n",
    "\n",
    "deployments_list[0]"
   ]
  },
  {
   "cell_type": "code",
   "execution_count": 32,
   "metadata": {},
   "outputs": [
    {
     "name": "stdout",
     "output_type": "stream",
     "text": [
      "2024/08/05 10:45:50 INFO : Deployment added successfully to an external model\n"
     ]
    }
   ],
   "source": [
    "\n",
    "deployment_tuning = [{\"id\":\"Loan Application Deploy With Tuning\",\"name\":\"Loan Application Model Deployment with Tuning\",\"type\":\"online\",\"scoring_endpoint\":endpoint_url,\"description\":\"Model deployed in AWS SageMaker to predict the loan application approval\"}]\n",
    "deployments_list = external_model.add_deployments(deployment_tuning)"
   ]
  },
  {
   "cell_type": "code",
   "execution_count": 33,
   "metadata": {},
   "outputs": [
    {
     "name": "stdout",
     "output_type": "stream",
     "text": [
      "2024/08/05 10:45:54 INFO : Deployments retrieved successfully\n",
      "{\n",
      "  \"id\": \"99ba2b29cf98ae401fa4443fd9618fbd\",\n",
      "  \"name\": \"Loan Application Model Deployment\",\n",
      "  \"type\": \"online\",\n",
      "  \"scoring_endpoint\": \"https://runtime.sagemaker.us-east-2.amazonaws.com/endpoints/sagemaker-scikit-learn-2023-08-11-09-00-35-455/invocations\",\n",
      "  \"is_deleted\": false,\n",
      "  \"description\": \"Model deployed in AWS SageMaker to predict the loan application approval\",\n",
      "  \"model_name\": \"Loan Application Model\",\n",
      "  \"model_asset_id\": \"6fabcd7b-7093-44b0-a99b-24035e360d87\",\n",
      "  \"model_container_type\": \"catalog\",\n",
      "  \"model_container_id\": \"d8d10c03-1ba0-49ff-ac58-f5df932ae29b\"\n",
      "}\n",
      "{\n",
      "  \"id\": \"870f3666d8d6e8efdcede6fc53375cd3\",\n",
      "  \"name\": \"Loan Application Model Deployment with modifications\",\n",
      "  \"type\": \"online\",\n",
      "  \"scoring_endpoint\": \"https://runtime.sagemaker.us-east-2.amazonaws.com/endpoints/sagemaker-scikit-learn-2023-08-11-09-00-35-455/invocations\",\n",
      "  \"is_deleted\": false,\n",
      "  \"description\": \"Model deployed in AWS SageMaker to predict the loan application approval\",\n",
      "  \"model_name\": \"Loan Application Model\",\n",
      "  \"model_asset_id\": \"6fabcd7b-7093-44b0-a99b-24035e360d87\",\n",
      "  \"model_container_type\": \"catalog\",\n",
      "  \"model_container_id\": \"d8d10c03-1ba0-49ff-ac58-f5df932ae29b\"\n",
      "}\n",
      "{\n",
      "  \"id\": \"79fd918459f44f9eccb0b7712c8700a1\",\n",
      "  \"name\": \"Loan Application Model Deployment with Tuning\",\n",
      "  \"type\": \"online\",\n",
      "  \"scoring_endpoint\": \"https://runtime.sagemaker.us-east-2.amazonaws.com/endpoints/sagemaker-scikit-learn-2023-08-11-09-00-35-455/invocations\",\n",
      "  \"is_deleted\": false,\n",
      "  \"description\": \"Model deployed in AWS SageMaker to predict the loan application approval\",\n",
      "  \"model_name\": \"Loan Application Model\",\n",
      "  \"model_asset_id\": \"6fabcd7b-7093-44b0-a99b-24035e360d87\",\n",
      "  \"model_container_type\": \"catalog\",\n",
      "  \"model_container_id\": \"d8d10c03-1ba0-49ff-ac58-f5df932ae29b\"\n",
      "}\n"
     ]
    }
   ],
   "source": [
    "deployments_all = external_model.get_deployments()\n",
    "for deployment in deployments_all:\n",
    "    print(deployment)"
   ]
  },
  {
   "cell_type": "markdown",
   "metadata": {},
   "source": [
    "### Methods for  External Model Deployments\n",
    "\n",
    "Explore the various methods for managing and configuring external model deployments.\n"
   ]
  },
  {
   "cell_type": "code",
   "execution_count": 34,
   "metadata": {},
   "outputs": [
    {
     "name": "stdout",
     "output_type": "stream",
     "text": [
      "Deployment name is : Loan Application Model Deployment with Tuning\n",
      "Deployment ID is : 79fd918459f44f9eccb0b7712c8700a1\n",
      "Deployment description is : Model deployed in AWS SageMaker to predict the loan application approval\n",
      "Deployment type is : online\n",
      "Deployment scoring endpoint is : https://runtime.sagemaker.us-east-2.amazonaws.com/endpoints/sagemaker-scikit-learn-2023-08-11-09-00-35-455/invocations\n",
      "Deployment model id is : 6fabcd7b-7093-44b0-a99b-24035e360d87\n",
      "Deployment model name is : Loan Application Model\n"
     ]
    }
   ],
   "source": [
    "print(\"Deployment name is : {}\".format(deployment.get_name()))\n",
    "print(\"Deployment ID is : {}\".format(deployment.get_id()))\n",
    "print(\"Deployment description is : {}\".format(deployment.get_description()))\n",
    "print(\"Deployment type is : {}\".format(deployment.get_type()))\n",
    "print(\"Deployment scoring endpoint is : {}\".format(deployment.get_scoring_endpoint()))\n",
    "print(\"Deployment model id is : {}\".format(deployment.get_model_id()))\n",
    "print(\"Deployment model name is : {}\".format(deployment.get_model_name()))"
   ]
  },
  {
   "cell_type": "markdown",
   "metadata": {},
   "source": [
    "### Update Deployment Attributes: Description, Scoring Endpoint, and Type\n"
   ]
  },
  {
   "cell_type": "code",
   "execution_count": 35,
   "metadata": {},
   "outputs": [
    {
     "name": "stdout",
     "output_type": "stream",
     "text": [
      "2024/08/05 10:46:12 INFO : Description is updated for deployment successfully\n",
      "2024/08/05 10:46:16 INFO : Scoring endpoint is updated for deployment successfully\n",
      "2024/08/05 10:46:21 INFO : Type is updated for deployment under model_stub successfully\n",
      "2024/08/05 10:46:23 INFO : Type is updated for deployment under modelfacts_system successfully\n"
     ]
    }
   ],
   "source": [
    "deployment.set_description(value=\"update - Model deployed in AWS SageMaker to predict the loan application approval\")\n",
    "deployment.set_scoring_endpoint(value=\"https://runtime.sagemaker.us-east-2.amazonaws.com/endpoints/sagemaker-scikit-learn-2023-08-11-09-00-35-455/invocations-update\")\n",
    "deployment.set_type(\"update-online\")"
   ]
  },
  {
   "cell_type": "code",
   "execution_count": 36,
   "metadata": {},
   "outputs": [
    {
     "name": "stdout",
     "output_type": "stream",
     "text": [
      "Deployment description is : update - Model deployed in AWS SageMaker to predict the loan application approval\n",
      "Deployment type is : update-online\n",
      "Deployment scoring endpoint is : https://runtime.sagemaker.us-east-2.amazonaws.com/endpoints/sagemaker-scikit-learn-2023-08-11-09-00-35-455/invocations-update\n"
     ]
    }
   ],
   "source": [
    "print(\"Deployment description is : {}\".format(deployment.get_description()))\n",
    "print(\"Deployment type is : {}\".format(deployment.get_type()))\n",
    "print(\"Deployment scoring endpoint is : {}\".format(deployment.get_scoring_endpoint()))"
   ]
  },
  {
   "cell_type": "markdown",
   "metadata": {},
   "source": [
    "### Delete Deployments\n",
    "\n",
    "Users can delete multiple deployments simultaneously. \n",
    "\n",
    "This action performs a soft delete, updating the **`is_deleted`** attribute from `false` to `true`.\n"
   ]
  },
  {
   "cell_type": "code",
   "execution_count": 37,
   "metadata": {},
   "outputs": [
    {
     "name": "stdout",
     "output_type": "stream",
     "text": [
      "2024/08/05 10:46:34 INFO : Deployment 79fd918459f44f9eccb0b7712c8700a1 deleted successfully\n"
     ]
    }
   ],
   "source": [
    "deployment_ids=[deployment.get_id()]\n",
    "external_model.delete_deployments(deployment_ids)"
   ]
  },
  {
   "cell_type": "code",
   "execution_count": 38,
   "metadata": {},
   "outputs": [
    {
     "name": "stdout",
     "output_type": "stream",
     "text": [
      "2024/08/05 10:46:36 INFO : Deployments retrieved successfully\n",
      "{\n",
      "  \"id\": \"99ba2b29cf98ae401fa4443fd9618fbd\",\n",
      "  \"name\": \"Loan Application Model Deployment\",\n",
      "  \"type\": \"online\",\n",
      "  \"scoring_endpoint\": \"https://runtime.sagemaker.us-east-2.amazonaws.com/endpoints/sagemaker-scikit-learn-2023-08-11-09-00-35-455/invocations\",\n",
      "  \"is_deleted\": false,\n",
      "  \"description\": \"Model deployed in AWS SageMaker to predict the loan application approval\",\n",
      "  \"model_name\": \"Loan Application Model\",\n",
      "  \"model_asset_id\": \"6fabcd7b-7093-44b0-a99b-24035e360d87\",\n",
      "  \"model_container_type\": \"catalog\",\n",
      "  \"model_container_id\": \"d8d10c03-1ba0-49ff-ac58-f5df932ae29b\"\n",
      "}\n",
      "{\n",
      "  \"id\": \"870f3666d8d6e8efdcede6fc53375cd3\",\n",
      "  \"name\": \"Loan Application Model Deployment with modifications\",\n",
      "  \"type\": \"online\",\n",
      "  \"scoring_endpoint\": \"https://runtime.sagemaker.us-east-2.amazonaws.com/endpoints/sagemaker-scikit-learn-2023-08-11-09-00-35-455/invocations\",\n",
      "  \"is_deleted\": false,\n",
      "  \"description\": \"Model deployed in AWS SageMaker to predict the loan application approval\",\n",
      "  \"model_name\": \"Loan Application Model\",\n",
      "  \"model_asset_id\": \"6fabcd7b-7093-44b0-a99b-24035e360d87\",\n",
      "  \"model_container_type\": \"catalog\",\n",
      "  \"model_container_id\": \"d8d10c03-1ba0-49ff-ac58-f5df932ae29b\"\n",
      "}\n",
      "{\n",
      "  \"id\": \"79fd918459f44f9eccb0b7712c8700a1\",\n",
      "  \"name\": \"Loan Application Model Deployment with Tuning\",\n",
      "  \"type\": \"update-online\",\n",
      "  \"scoring_endpoint\": \"https://runtime.sagemaker.us-east-2.amazonaws.com/endpoints/sagemaker-scikit-learn-2023-08-11-09-00-35-455/invocations-update\",\n",
      "  \"is_deleted\": true,\n",
      "  \"description\": \"update - Model deployed in AWS SageMaker to predict the loan application approval\",\n",
      "  \"model_name\": \"Loan Application Model\",\n",
      "  \"model_asset_id\": \"6fabcd7b-7093-44b0-a99b-24035e360d87\",\n",
      "  \"model_container_type\": \"catalog\",\n",
      "  \"model_container_id\": \"d8d10c03-1ba0-49ff-ac58-f5df932ae29b\"\n",
      "}\n"
     ]
    }
   ],
   "source": [
    "deployments_all = external_model.get_deployments()\n",
    "for deployment in deployments_all:\n",
    "    print(deployment)"
   ]
  },
  {
   "cell_type": "markdown",
   "metadata": {},
   "source": [
    "\n",
    "\n",
    "---\n",
    "## Creation of New AI Use Case <a href=\"#add_mut\"></a>\n",
    "\n",
    "An **AI Use Case** tracks model asset lifecycles across environments like development, pre-production, and production. \n",
    "\n",
    "**Note:** The term \"AI Use Case\" has replaced \"Model Use Case\" to reflect a broader range of AI assets. While some APIs may still use the old terminology, it will be phased out.\n",
    "\n",
    "- If `ai_usecase_id` is not provided, the default inventory_id is used (requires `EDITOR` access).\n",
    "\n",
    "- Retrieve the AI Use Case ID from the URL in inventory or by using `get_ai_usecase()`.\n",
    "\n",
    "- For Cloud Pak for Data, ensure OpenPages integration is disabled (create inventory permission needed).\n"
   ]
  },
  {
   "cell_type": "code",
   "execution_count": 39,
   "metadata": {},
   "outputs": [],
   "source": [
    "ai_usecase_inventory_id = os.getenv(\"INVENTORY_ID\", \"<if you can't use .env you can provide your inventory id here>\")\n",
    "ai_usecase_name=\"Automatic Loan classification\"\n",
    "ai_usecase_desc=\"AI usecase for Loan classification\""
   ]
  },
  {
   "cell_type": "markdown",
   "metadata": {},
   "source": [
    "##### ⚠️ Warning: Use of `catalog_id`\n",
    "\n",
    "- The `catalog_id` parameter can specify either an inventory ID or a catalog ID. Inventories, optimized for watsonx.governance, are recommended.\n",
    "\n",
    "\n",
    "- Catalogs are still supported but will be deprecated over time. As a best practice, use inventories for storing use cases and external models.\n"
   ]
  },
  {
   "cell_type": "code",
   "execution_count": 40,
   "metadata": {},
   "outputs": [
    {
     "name": "stdout",
     "output_type": "stream",
     "text": [
      "2024/08/05 10:46:56 INFO : AI usecase created successfully\n"
     ]
    },
    {
     "data": {
      "text/plain": [
       "{'name': 'Autmatic Iris classification',\n",
       " 'description': 'AI usecase for iris classification',\n",
       " 'asset_type': 'model_entry',\n",
       " 'url': 'https://cpd-aigov.apps.fs-hotfix-test1.cp.fyre.ibm.com/data/catalogs/9df1cb81-e4d1-4b8b-9825-460f84b55dea/asset/b6713b82-5730-4cff-8de5-050c13b0b80d?context=cpdaas',\n",
       " 'model_usecase_id': 'b6713b82-5730-4cff-8de5-050c13b0b80d',\n",
       " 'container_type': 'catalog',\n",
       " 'catalog_id': '9df1cb81-e4d1-4b8b-9825-460f84b55dea',\n",
       " 'facts_type': 'model_entry_user'}"
      ]
     },
     "execution_count": 40,
     "metadata": {},
     "output_type": "execute_result"
    }
   ],
   "source": [
    "ai_usecase = facts_client.assets.create_ai_usecase(catalog_id=ai_usecase_inventory_id,name=ai_usecase_name,description=ai_usecase_desc)\n",
    "ai_usecase.get_info(True)"
   ]
  },
  {
   "cell_type": "markdown",
   "metadata": {},
   "source": [
    "---\n",
    "\n",
    "## Create an Approach <a href=\"#createapproach\"></a>\n",
    "\n",
    "- Track multiple models and prompts under a single use case by grouping them into different approaches.\n",
    "- Create multiple approaches for various classification algorithms to facilitate comparison and integration.\n",
    "- Use approaches to manage different models that need to be combined for a specific use case.\n"
   ]
  },
  {
   "cell_type": "code",
   "execution_count": 41,
   "metadata": {},
   "outputs": [
    {
     "name": "stdout",
     "output_type": "stream",
     "text": [
      "2024/08/05 10:47:02 INFO : Approach created successfully\n"
     ]
    },
    {
     "data": {
      "text/plain": [
       "{'approach_id': '57d52037-fd74-4c65-9287-35f104964072',\n",
       " 'approach_name': 'externalapproach',\n",
       " 'approach_desc': 'approach for external AWS model',\n",
       " 'model_asset_id': 'b6713b82-5730-4cff-8de5-050c13b0b80d',\n",
       " 'model_container_type': 'catalog',\n",
       " 'model_container_id': '9df1cb81-e4d1-4b8b-9825-460f84b55dea'}"
      ]
     },
     "execution_count": 41,
     "metadata": {},
     "output_type": "execute_result"
    }
   ],
   "source": [
    "external_approach = ai_usecase.create_approach(name=\"externalapproach\",description=\"approach for external AWS model\")\n",
    "external_approach.get_info()"
   ]
  },
  {
   "cell_type": "markdown",
   "metadata": {},
   "source": [
    "---\n",
    "## Track a External Model Under an AI Use Case <a name=\"add_mu\"></a>\n",
    "\n",
    "\n",
    "- **AI Use Cases** are designed to monitor the lifecycle of model assets across various stages, including development, pre-production, and production.\n",
    "- To effectively integrate a model into an AI use case, three critical elements must be addressed: the **model**, the **AI use case**, and the **approach**.\n",
    "- Link an existing AI use case by using the following method: `model.track(usecase=<ai_usecase>, approach=<approach1>, version_number=\"<Version Number>\")`.\n",
    "\n",
    "- **Version Numbers** are categorized as follows:\n",
    "    - **Major Version:** Indicates significant changes, represented as `1.0.0`.\n",
    "    - **Minor Version:** Reflects incremental improvements, represented as `0.1.0`.\n",
    "    - **Patch Version:** Denotes minor fixes or updates, represented as `0.0.1`.\n",
    "    - **Custom Version:** Allows for tailored versioning according to specific user needs.\n",
    "\n",
    "- Ensure that the `ai_usecase`, `approach`, and `version_number` parameters are provided as mandatory.\n"
   ]
  },
  {
   "cell_type": "code",
   "execution_count": 42,
   "metadata": {},
   "outputs": [
    {
     "name": "stdout",
     "output_type": "stream",
     "text": [
      "-----------------------------------------------------------------------------------------------------------------------------\n",
      "                                                   Tracking Process Started                                                  \n",
      "-----------------------------------------------------------------------------------------------------------------------------\n",
      "2024/08/05 10:47:09 INFO : Assigned externalapproach to Autmatic Iris classification for tracking.\n",
      "2024/08/05 10:47:11 INFO : Initiate linking model to existing AI usecase b6713b82-5730-4cff-8de5-050c13b0b80d\n",
      "2024/08/05 10:47:15 INFO : Successfully finished linking Model 6fabcd7b-7093-44b0-a99b-24035e360d87 to AI usecase\n"
     ]
    },
    {
     "data": {
      "text/plain": [
       "{'model_entry_catalog_id': '9df1cb81-e4d1-4b8b-9825-460f84b55dea',\n",
       " 'model_entry_id': 'b6713b82-5730-4cff-8de5-050c13b0b80d',\n",
       " 'model_entry_name': 'Autmatic Iris classification',\n",
       " 'model_entry_status': 'Draft',\n",
       " 'version_number': '1.0.0',\n",
       " 'version_comment': 'external model major version',\n",
       " 'approach_name': 'externalapproach'}"
      ]
     },
     "execution_count": 42,
     "metadata": {},
     "output_type": "execute_result"
    }
   ],
   "source": [
    "external_model.track(usecase=ai_usecase,approach=external_approach,version_number=\"major\",version_comment=\"external model major version\")"
   ]
  },
  {
   "cell_type": "markdown",
   "metadata": {},
   "source": [
    "---\n",
    "\n",
    "## External Model Environment Type <a name=\"existing_env_type\"></a>\n",
    "\n",
    "This section details the various environment types available for external models. It also discusses the process for promoting external model across different environment stages.\n"
   ]
  },
  {
   "cell_type": "code",
   "execution_count": 43,
   "metadata": {},
   "outputs": [
    {
     "data": {
      "text/plain": [
       "{'classification': 'TEST',\n",
       " 'reason': 'The space type is development and deployment_details are available which is considered as TEST environment and asset shows under TEST stage'}"
      ]
     },
     "execution_count": 43,
     "metadata": {},
     "output_type": "execute_result"
    }
   ],
   "source": [
    "external_model.get_environment_type()"
   ]
  },
  {
   "cell_type": "markdown",
   "metadata": {},
   "source": [
    "#### Model Promotion Across Pillars\n",
    "\n",
    "Models move through different pillars based on their environment and evaluation status. Here’s how the transition works:\n",
    "\n",
    "- **Develop**: The initial stage where models are created and developed.\n",
    "\n",
    "- **Test**: Once promoted to a space, the model appears in the Test pillar.\n",
    "\n",
    "- **Validate**: If a model's deployment is evaluated in Watson OpenScale and tagged as pre-production, it will be displayed in the Validate pillar. Additionally, models promoted to spaces with the `AIGovernance: Pre-production` tag will also be shown in the Validate pillar.\n",
    "\n",
    "- **Operate**: Models tagged as production or those evaluated and tagged as production in Watson OpenScale will be displayed in the Operate pillar. Models promoted to spaces with the `AIGovernance: Production` tag will be shown in the Operate pillar."
   ]
  },
  {
   "cell_type": "markdown",
   "metadata": {},
   "source": [
    "#### -> Promote External Model from Test to Validate"
   ]
  },
  {
   "cell_type": "code",
   "execution_count": 44,
   "metadata": {},
   "outputs": [
    {
     "name": "stdout",
     "output_type": "stream",
     "text": [
      "2024/08/05 10:47:26 INFO : Asset successfully moved from test to validate environment\n"
     ]
    }
   ],
   "source": [
    "external_model.set_environment_type(from_container=\"test\",to_container=\"validate\")"
   ]
  },
  {
   "cell_type": "markdown",
   "metadata": {},
   "source": [
    "#### ->Promote External Model from Validate to Operate"
   ]
  },
  {
   "cell_type": "code",
   "execution_count": null,
   "metadata": {},
   "outputs": [],
   "source": [
    "external_model.set_environment_type(from_container=\"validate\",to_container=\"operate\")"
   ]
  },
  {
   "cell_type": "markdown",
   "metadata": {},
   "source": [
    "#### -> Promote External Model from Operate to Validate"
   ]
  },
  {
   "cell_type": "code",
   "execution_count": 46,
   "metadata": {},
   "outputs": [
    {
     "name": "stdout",
     "output_type": "stream",
     "text": [
      "2024/08/05 10:47:43 INFO : Asset successfully moved from operate to validate environment\n"
     ]
    }
   ],
   "source": [
    "external_model.set_environment_type(from_container=\"operate\",to_container=\"validate\")"
   ]
  },
  {
   "cell_type": "markdown",
   "metadata": {},
   "source": [
    "---\n",
    "## Deployment Environment Type <a name=\"5\"></a>\n",
    "\n",
    "This section outlines the scenarios for external model deployment environments and promotions:\n",
    "\n",
    "- **Models Without Deployment**: These models are located in the Develop pillar, where they are in the initial development phase.\n",
    "  \n",
    "- **Models With Deployment**:\n",
    "  - **`Multiple Deployments`**: Moving a single deployment results in the creation of a clone of the entire model in the target pillar, with the deployment placed there.\n",
    "  \n",
    "  - **`Single Deployment`**: Moving the deployment causes the entire model to be migrated to the target pillar.\n",
    "\n",
    "- **Complete Model Migration**: When a model is moved to a target pillar, it includes all associated deployments, whether there is one or multiple. Once a model is in a target pillar, it cannot be moved further.\n",
    "\n",
    "- **OpenScale Evaluations**: Deployments evaluated by OpenScale will remain in their current pillar and cannot be relocated to another pillar.\n",
    "\n",
    "**Notes**:\n",
    "- Models with deployments cannot be moved from the Test, Validate, or Operate Pillars back to the Develop Pillar.\n"
   ]
  },
  {
   "cell_type": "code",
   "execution_count": 47,
   "metadata": {},
   "outputs": [
    {
     "name": "stdout",
     "output_type": "stream",
     "text": [
      "2024/08/05 10:47:45 INFO : Deployments retrieved successfully\n",
      "{\n",
      "  \"id\": \"99ba2b29cf98ae401fa4443fd9618fbd\",\n",
      "  \"name\": \"Loan Application Model Deployment\",\n",
      "  \"type\": \"online\",\n",
      "  \"scoring_endpoint\": \"https://runtime.sagemaker.us-east-2.amazonaws.com/endpoints/sagemaker-scikit-learn-2023-08-11-09-00-35-455/invocations\",\n",
      "  \"is_deleted\": false,\n",
      "  \"description\": \"Model deployed in AWS SageMaker to predict the loan application approval\",\n",
      "  \"model_name\": \"Loan Application Model\",\n",
      "  \"model_asset_id\": \"6fabcd7b-7093-44b0-a99b-24035e360d87\",\n",
      "  \"model_container_type\": \"catalog\",\n",
      "  \"model_container_id\": \"d8d10c03-1ba0-49ff-ac58-f5df932ae29b\"\n",
      "}\n",
      "{\n",
      "  \"id\": \"870f3666d8d6e8efdcede6fc53375cd3\",\n",
      "  \"name\": \"Loan Application Model Deployment with modifications\",\n",
      "  \"type\": \"online\",\n",
      "  \"scoring_endpoint\": \"https://runtime.sagemaker.us-east-2.amazonaws.com/endpoints/sagemaker-scikit-learn-2023-08-11-09-00-35-455/invocations\",\n",
      "  \"is_deleted\": false,\n",
      "  \"description\": \"Model deployed in AWS SageMaker to predict the loan application approval\",\n",
      "  \"model_name\": \"Loan Application Model\",\n",
      "  \"model_asset_id\": \"6fabcd7b-7093-44b0-a99b-24035e360d87\",\n",
      "  \"model_container_type\": \"catalog\",\n",
      "  \"model_container_id\": \"d8d10c03-1ba0-49ff-ac58-f5df932ae29b\"\n",
      "}\n",
      "{\n",
      "  \"id\": \"79fd918459f44f9eccb0b7712c8700a1\",\n",
      "  \"name\": \"Loan Application Model Deployment with Tuning\",\n",
      "  \"type\": \"update-online\",\n",
      "  \"scoring_endpoint\": \"https://runtime.sagemaker.us-east-2.amazonaws.com/endpoints/sagemaker-scikit-learn-2023-08-11-09-00-35-455/invocations-update\",\n",
      "  \"is_deleted\": true,\n",
      "  \"description\": \"update - Model deployed in AWS SageMaker to predict the loan application approval\",\n",
      "  \"model_name\": \"Loan Application Model\",\n",
      "  \"model_asset_id\": \"6fabcd7b-7093-44b0-a99b-24035e360d87\",\n",
      "  \"model_container_type\": \"catalog\",\n",
      "  \"model_container_id\": \"d8d10c03-1ba0-49ff-ac58-f5df932ae29b\"\n",
      "}\n"
     ]
    }
   ],
   "source": [
    "deployments_all = external_model.get_deployments()\n",
    "for deployment in deployments_all:\n",
    "    print(deployment)"
   ]
  },
  {
   "cell_type": "code",
   "execution_count": 48,
   "metadata": {},
   "outputs": [
    {
     "name": "stdout",
     "output_type": "stream",
     "text": [
      "2024/08/05 10:47:59 INFO : Deployment successfully moved to operate environment\n"
     ]
    }
   ],
   "source": [
    "deployments_all[1].set_environment_type(to_container=\"operate\")"
   ]
  },
  {
   "cell_type": "markdown",
   "metadata": {},
   "source": [
    "---\n",
    "## Cleanup <a href=\"#clean\"></a>"
   ]
  },
  {
   "cell_type": "code",
   "execution_count": 49,
   "metadata": {},
   "outputs": [
    {
     "name": "stdout",
     "output_type": "stream",
     "text": [
      "2024/08/05 10:48:03 INFO : Successfully finished unregistering WKC Model 6fabcd7b-7093-44b0-a99b-24035e360d87 from model use case.\n",
      "2024/08/05 10:48:06 INFO : Successfully deleted asset id b6713b82-5730-4cff-8de5-050c13b0b80d in catalog 9df1cb81-e4d1-4b8b-9825-460f84b55dea\n",
      "2024/08/05 10:48:08 INFO : Successfully deleted asset id 6fabcd7b-7093-44b0-a99b-24035e360d87 in catalog d8d10c03-1ba0-49ff-ac58-f5df932ae29b\n"
     ]
    }
   ],
   "source": [
    "if run_cleanup_at_end:\n",
    "    # remove model and model usecase\n",
    "    external_model.untrack()\n",
    "    facts_client.assets.remove_asset(asset_id=ai_usecase.get_info()[\"model_usecase_id\"],container_type=ai_usecase.get_info()[\"container_type\"],container_id=ai_usecase.get_info()[\"catalog_id\"])\n",
    "    facts_client.assets.remove_asset(asset_id=external_model.get_info()[\"asset_id\"],container_type=external_model.get_info()[\"container_type\"],container_id=external_model.get_info()[\"container_id\"])\n",
    "\n",
    "else:\n",
    "    \n",
    "    model_ui_url = external_model.get_info(verbose=True)[\"url\"]\n",
    "    display(Markdown(\"[Click here to see the created wml model details in UI](\" + model_ui_url + \")\"))\n",
    "    model_usecase_ui_url = ai_usecase.get_info(verbose=True)[\"url\"]\n",
    "    display(Markdown(\"[Click here to see the created model use case in UI](\" + model_usecase_ui_url + \")\"))"
   ]
  },
  {
   "cell_type": "markdown",
   "metadata": {},
   "source": [
    "**Created by:**  \n",
    "\n",
    "\n",
    "IBM watsonx.governance - AI Factsheet Python SDK Team\n",
    "\n",
    "---\n",
    "\n",
    "**Copyright © 2020-2024 IBM**  \n",
    "Released under the MIT License.\n"
   ]
  }
 ],
 "metadata": {
  "interpreter": {
   "hash": "671fb7aa161d7cd648bbbcad6b003541cd9cf13e8157e186cbe0090b82566204"
  },
  "kernelspec": {
   "display_name": "Python 3 (ipykernel)",
   "language": "python",
   "name": "python3"
  },
  "language_info": {
   "codemirror_mode": {
    "name": "ipython",
    "version": 3
   },
   "file_extension": ".py",
   "mimetype": "text/x-python",
   "name": "python",
   "nbconvert_exporter": "python",
   "pygments_lexer": "ipython3",
   "version": "3.10.0"
  },
  "varInspector": {
   "cols": {
    "lenName": 16,
    "lenType": 16,
    "lenVar": 40
   },
   "kernels_config": {
    "python": {
     "delete_cmd_postfix": "",
     "delete_cmd_prefix": "del ",
     "library": "var_list.py",
     "varRefreshCmd": "print(var_dic_list())"
    },
    "r": {
     "delete_cmd_postfix": ") ",
     "delete_cmd_prefix": "rm(",
     "library": "var_list.r",
     "varRefreshCmd": "cat(var_dic_list()) "
    }
   },
   "types_to_exclude": [
    "module",
    "function",
    "builtin_function_or_method",
    "instance",
    "_Feature"
   ],
   "window_display": false
  }
 },
 "nbformat": 4,
 "nbformat_minor": 4
}
